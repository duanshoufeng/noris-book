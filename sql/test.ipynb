{
    "metadata": {
        "kernelspec": {
            "name": "SQL",
            "display_name": "SQL",
            "language": "sql"
        },
        "language_info": {
            "name": "sql",
            "version": ""
        }
    },
    "nbformat_minor": 2,
    "nbformat": 4,
    "cells": [
        {
            "cell_type": "markdown",
            "source": [
                "# SQL Test"
            ],
            "metadata": {
                "azdata_cell_guid": "9e4d3cf4-c148-47f2-82db-46c42828e6b1"
            }
        },
        {
            "cell_type": "code",
            "source": [
                "SELECT *\r\n",
                "FROM dbo.nor_setting;"
            ],
            "metadata": {
                "azdata_cell_guid": "8f0fd658-c1f9-415c-a686-cc53bf1ed75c"
            },
            "outputs": [
                {
                    "output_type": "display_data",
                    "data": {
                        "text/html": "(167 rows affected)"
                    },
                    "metadata": {}
                },
                {
                    "output_type": "display_data",
                    "data": {
                        "text/html": "Total execution time: 00:00:00.222"
                    },
                    "metadata": {}
                },
                {
                    "output_type": "execute_result",
                    "metadata": {},
                    "execution_count": 1,
                    "data": {
                        "application/vnd.dataresource+json": {
                            "schema": {
                                "fields": [
                                    {
                                        "name": "ID_Setting"
                                    },
                                    {
                                        "name": "ID_NOR_grp"
                                    },
                                    {
                                        "name": "Value_Name"
                                    },
                                    {
                                        "name": "Value_Str"
                                    },
                                    {
                                        "name": "Comment"
                                    },
                                    {
                                        "name": "ApplicationId"
                                    }
                                ]
                            },
                            "data": [
                                {
                                    "0": "2",
                                    "1": "1",
                                    "2": "MinimumTargetFigure",
                                    "3": "10",
                                    "4": "MinimumTargetFigure for MDL_Data_plan calculation",
                                    "5": "NULL"
                                },
                                {
                                    "0": "3",
                                    "1": "1",
                                    "2": "red_target",
                                    "3": "",
                                    "4": "reduction of target",
                                    "5": "NULL"
                                },
                                {
                                    "0": "4",
                                    "1": "1",
                                    "2": "Skimmings_percentage",
                                    "3": "1,6",
                                    "4": "Krätze Prozent",
                                    "5": "NULL"
                                },
                                {
                                    "0": "5",
                                    "1": "1",
                                    "2": "ReportPlantABC",
                                    "3": "CHQ",
                                    "4": "depends of the Plant e.g. SVK, LNZ, ...",
                                    "5": "NULL"
                                },
                                {
                                    "0": "6",
                                    "1": "1",
                                    "2": "NOR-NOQ-IS-0014_Tablix2",
                                    "3": "False",
                                    "4": "visible",
                                    "5": "NULL"
                                },
                                {
                                    "0": "7",
                                    "1": "1",
                                    "2": "NOR-NOQ-IS-0014_Tablix2_svk",
                                    "3": "True",
                                    "4": "visible",
                                    "5": "NULL"
                                },
                                {
                                    "0": "8",
                                    "1": "1",
                                    "2": "NOR-NOQ-IS-0014_Chart1",
                                    "3": "False",
                                    "4": "visible",
                                    "5": "NULL"
                                },
                                {
                                    "0": "9",
                                    "1": "1",
                                    "2": "NOR-NOQ-IS-0014_Chart2",
                                    "3": "False",
                                    "4": "visible",
                                    "5": "NULL"
                                },
                                {
                                    "0": "10",
                                    "1": "1",
                                    "2": "Plant_Image_Path",
                                    "3": "http://alasql0002.am.nemak.net/ReportServer?%2fImages%2f",
                                    "4": "NULL",
                                    "5": "NULL"
                                },
                                {
                                    "0": "11",
                                    "1": "1",
                                    "2": "NOR-Q-YY_mm.rdl_ErrorExpandList",
                                    "3": "True",
                                    "4": "show the list",
                                    "5": "NULL"
                                },
                                {
                                    "0": "13",
                                    "1": "NULL",
                                    "2": "booking_option_visible_internal",
                                    "3": "True",
                                    "4": "test status!!!",
                                    "5": "NULL"
                                },
                                {
                                    "0": "14",
                                    "1": "NULL",
                                    "2": "booking_option_visible_external",
                                    "3": "False",
                                    "4": "test status!!!",
                                    "5": "NULL"
                                },
                                {
                                    "0": "15",
                                    "1": "NULL",
                                    "2": "booking_option_value_internal",
                                    "3": "internal",
                                    "4": "test status!!!",
                                    "5": "NULL"
                                },
                                {
                                    "0": "16",
                                    "1": "NULL",
                                    "2": "booking_option_value_external",
                                    "3": "external",
                                    "4": "test status!!!",
                                    "5": "NULL"
                                },
                                {
                                    "0": "17",
                                    "1": "NULL",
                                    "2": "quality_location_internal",
                                    "3": "1",
                                    "4": "1=enable; 0=disable",
                                    "5": "NULL"
                                },
                                {
                                    "0": "18",
                                    "1": "NULL",
                                    "2": "quality_location_external",
                                    "3": "0",
                                    "4": "2=enable; 0=disable",
                                    "5": "NULL"
                                },
                                {
                                    "0": "19",
                                    "1": "NULL",
                                    "2": "quality_datatyp_casting",
                                    "3": "10",
                                    "4": "10=enable; 0=disable",
                                    "5": "NULL"
                                },
                                {
                                    "0": "20",
                                    "1": "NULL",
                                    "2": "quality_datatyp_collecting",
                                    "3": "20",
                                    "4": "20=enable; 0=disable",
                                    "5": "NULL"
                                },
                                {
                                    "0": "21",
                                    "1": "NULL",
                                    "2": "daily_mail_to",
                                    "3": "markus.baumann@nemak.com",
                                    "4": "NULL",
                                    "5": "NULL"
                                },
                                {
                                    "0": "22",
                                    "1": "NULL",
                                    "2": "SSRS_home",
                                    "3": "http://alasql0002.am.nemak.net/Reports",
                                    "4": "NULL",
                                    "5": "NULL"
                                },
                                {
                                    "0": "25",
                                    "1": "1",
                                    "2": "SSRS_home_subdir",
                                    "3": "/Pages/Report.aspx?ItemPath=%2fALA_HP%2fscrap-rework%2fintern%2fALA-SYS-GL-0001",
                                    "4": "NULL",
                                    "5": "NULL"
                                },
                                {
                                    "0": "26",
                                    "1": "2",
                                    "2": "CAP_SyncCycleTime",
                                    "3": "60",
                                    "4": "Duration of one sync cycle in seconds",
                                    "5": "NULL"
                                },
                                {
                                    "0": "27",
                                    "1": "2",
                                    "2": "CAP_ExitPassword",
                                    "3": "1234",
                                    "4": "Password to exit application",
                                    "5": "NULL"
                                },
                                {
                                    "0": "28",
                                    "1": "2",
                                    "2": "CAP_Outdated",
                                    "3": "12",
                                    "4": "Elapsed hours, the gui is locked due to outdated error",
                                    "5": "NULL"
                                },
                                {
                                    "0": "29",
                                    "1": "2",
                                    "2": "CAP_AvailableLanguages",
                                    "3": "2|9",
                                    "4": "Available languages seperated by |",
                                    "5": "NULL"
                                },
                                {
                                    "0": "30",
                                    "1": "2",
                                    "2": "RoleFilter_0201",
                                    "3": "3",
                                    "4": "Available moldings for coremakers seperated by |",
                                    "5": "NULL"
                                },
                                {
                                    "0": "31",
                                    "1": "2",
                                    "2": "RoleFilter_0202",
                                    "3": "3",
                                    "4": "Available moldings for coremakers seperated by |",
                                    "5": "NULL"
                                },
                                {
                                    "0": "32",
                                    "1": "2",
                                    "2": "CAP_LogInfoOutdated",
                                    "3": "1",
                                    "4": "Days after which a log entry of type Information is being locally deleted",
                                    "5": "NULL"
                                },
                                {
                                    "0": "33",
                                    "1": "2",
                                    "2": "CAP_LogWarningOutdated",
                                    "3": "7",
                                    "4": "Days after which a log entry of type Warning is being locally deleted",
                                    "5": "NULL"
                                },
                                {
                                    "0": "34",
                                    "1": "2",
                                    "2": "CAP_LogErrorOutdated",
                                    "3": "31",
                                    "4": "Days after which a log entry of type Error is being locally deleted",
                                    "5": "NULL"
                                },
                                {
                                    "0": "35",
                                    "1": "2",
                                    "2": "CAP_CarrierContentScope",
                                    "3": "45",
                                    "4": "Timespan, CarrierContent and CarrierContentItem are locally synchronized",
                                    "5": "NULL"
                                },
                                {
                                    "0": "36",
                                    "1": "2",
                                    "2": "CAP_EMAILServerURL",
                                    "3": "NMKEXC1000.nemak.net",
                                    "4": "MailserverUrl for sending CAP Mails",
                                    "5": "NULL"
                                },
                                {
                                    "0": "37",
                                    "1": "2",
                                    "2": "CAP_EMAILServerPort",
                                    "3": "25",
                                    "4": "Mailserver Port for sending CAP Mails",
                                    "5": "NULL"
                                },
                                {
                                    "0": "38",
                                    "1": "2",
                                    "2": "CAP_EMAILRcptList",
                                    "3": "test1@nemak.com|test2@nemak.com",
                                    "4": "EMail adresses for CAP Admins - split by >|<",
                                    "5": "NULL"
                                },
                                {
                                    "0": "39",
                                    "1": "2",
                                    "2": "CAP_EMAILSender",
                                    "3": "CAP-auto-mail@nemak.com",
                                    "4": "EMail adress for CAP Sender",
                                    "5": "NULL"
                                },
                                {
                                    "0": "40",
                                    "1": "2",
                                    "2": "CAP_EMAILBodyContent",
                                    "3": "Information von NORIS CSM:<br /><br />Absender: {SENDERNAME}<br /><br />{MESSAGE}",
                                    "4": "EMail content of CAP Info Mail",
                                    "5": "NULL"
                                },
                                {
                                    "0": "41",
                                    "1": "2",
                                    "2": "CAP_EMAILSubjectContent",
                                    "3": "NORIS CSM - Information",
                                    "4": "EMail subject for CAP",
                                    "5": "NULL"
                                },
                                {
                                    "0": "42",
                                    "1": "2",
                                    "2": "CAP_LogVerboseOutdated",
                                    "3": "1",
                                    "4": "Hours after which a log entry of type Verbose is being locally deleted",
                                    "5": "NULL"
                                },
                                {
                                    "0": "43",
                                    "1": "NULL",
                                    "2": "CPC_ActivePlants",
                                    "3": "2001",
                                    "4": "Active Plants for CPC ",
                                    "5": "NULL"
                                },
                                {
                                    "0": "44",
                                    "1": "NULL",
                                    "2": "CPC_Color_MatrixFrameDefault",
                                    "3": "Transparent",
                                    "4": "Default Grid Lines Color",
                                    "5": "NULL"
                                },
                                {
                                    "0": "45",
                                    "1": "NULL",
                                    "2": "CPC_Color_MatrixFrameSelected",
                                    "3": "Red",
                                    "4": "Default Grid Selected Item Color",
                                    "5": "NULL"
                                },
                                {
                                    "0": "46",
                                    "1": "NULL",
                                    "2": "CPC_DefaultImageMatrixPenThickness",
                                    "3": "0.2",
                                    "4": "Default Grid Lines Thickness",
                                    "5": "NULL"
                                },
                                {
                                    "0": "47",
                                    "1": "NULL",
                                    "2": "CPC_IsCtrlVisible_ExternalWork",
                                    "3": "False",
                                    "4": "NULL",
                                    "5": "NULL"
                                },
                                {
                                    "0": "48",
                                    "1": "NULL",
                                    "2": "CPC_IsCtrlVisible_Level",
                                    "3": "True",
                                    "4": "NULL",
                                    "5": "NULL"
                                },
                                {
                                    "0": "49",
                                    "1": "NULL",
                                    "2": "CPC_IsCtrlVisible_Strang",
                                    "3": "False",
                                    "4": "NULL",
                                    "5": "NULL"
                                },
                                {
                                    "0": "50",
                                    "1": "NULL",
                                    "2": "CPC_SidesColors",
                                    "3": "#FF87B3|#FFD8B2|#C8FFAF|#AAFFD7|#AFDCFF|#D8ADFF",
                                    "4": "Colors for every ImgSide in the CPC_ImgSide Table",
                                    "5": "NULL"
                                },
                                {
                                    "0": "51",
                                    "1": "10",
                                    "2": "NMI_SHOW_GRAPH",
                                    "3": "1",
                                    "4": "NULL",
                                    "5": "NULL"
                                },
                                {
                                    "0": "53",
                                    "1": "NULL",
                                    "2": "Dashboard",
                                    "3": "http://mynemak.nemak.net/Collaboration/RegionalUnits/NORIS/Chongqing/default.aspx",
                                    "4": "NULL",
                                    "5": "NULL"
                                },
                                {
                                    "0": "54",
                                    "1": "NULL",
                                    "2": "CPC_Double_MatrixTOpacityDefault",
                                    "3": "0.1",
                                    "4": "Default Grid Description Thickness",
                                    "5": "NULL"
                                },
                                {
                                    "0": "55",
                                    "1": "NULL",
                                    "2": "CPC_Color_MatrixTColorDefault",
                                    "3": "Transparent",
                                    "4": "Default Grid Description Color ",
                                    "5": "NULL"
                                },
                                {
                                    "0": "56",
                                    "1": "NULL",
                                    "2": "CPC_DefaultSelectedMatrixItemPenThickness",
                                    "3": "1",
                                    "4": "",
                                    "5": "NULL"
                                },
                                {
                                    "0": "57",
                                    "1": "NULL",
                                    "2": "NMI_ShiftGroup1",
                                    "3": "1",
                                    "4": "NULL",
                                    "5": "NULL"
                                },
                                {
                                    "0": "60",
                                    "1": "2",
                                    "2": "CPC_IsStrangShiftgroup",
                                    "3": "True",
                                    "4": "True = Field [Strang] stores [Shiftgroup]",
                                    "5": "NULL"
                                },
                                {
                                    "0": "61",
                                    "1": "NULL",
                                    "2": "CPC_UseMultipleDMC",
                                    "3": "false",
                                    "4": "CPC_UseMultipleDMC: True for Monclova, False for all others",
                                    "5": "CPC"
                                },
                                {
                                    "0": "62",
                                    "1": "NULL",
                                    "2": "CPC_ActivateCollection",
                                    "3": "False",
                                    "4": "NULL",
                                    "5": "CPC"
                                },
                                {
                                    "0": "63",
                                    "1": "NULL",
                                    "2": "CPC_CoatingStationActivated",
                                    "3": "False",
                                    "4": "Display CoatingStation fields in CPC or not",
                                    "5": "CPC"
                                },
                                {
                                    "0": "64",
                                    "1": "0",
                                    "2": "CPC_EnableDayOfYearControl",
                                    "3": "false",
                                    "4": "\"True\" if you want to display day of year instead of datetime control",
                                    "5": ""
                                },
                                {
                                    "0": "65",
                                    "1": "NULL",
                                    "2": "CPC_GlueActivated",
                                    "3": "False",
                                    "4": "CPC_GlueActivated",
                                    "5": "NULL"
                                },
                                {
                                    "0": "66",
                                    "1": "0",
                                    "2": "CPC_Intercomp_PlantGroupId",
                                    "3": "9998",
                                    "4": "CPC_Intercomp_PlantGroupId",
                                    "5": "CPC"
                                },
                                {
                                    "0": "67",
                                    "1": "NULL",
                                    "2": "CPC_IsCoatedDateVisible          ",
                                    "3": "False",
                                    "4": "NULL",
                                    "5": "NULL"
                                },
                                {
                                    "0": "68",
                                    "1": "NULL",
                                    "2": "CPC_IsConfigurationBatchNumber",
                                    "3": "False",
                                    "4": "NULL",
                                    "5": "CPC"
                                },
                                {
                                    "0": "69",
                                    "1": "NULL",
                                    "2": "CPC_IsCtrlVisible_CreShiftgroup",
                                    "3": "True",
                                    "4": "",
                                    "5": "CPC"
                                },
                                {
                                    "0": "70",
                                    "1": "NULL",
                                    "2": "CPC_IsDetectionLocation",
                                    "3": "False",
                                    "4": "NULL",
                                    "5": "NULL"
                                },
                                {
                                    "0": "71",
                                    "1": "NULL",
                                    "2": "CPC_ISGluedDateVisible",
                                    "3": "False",
                                    "4": "NULL",
                                    "5": "NULL"
                                },
                                {
                                    "0": "72",
                                    "1": "NULL",
                                    "2": "CPC_IsGraveVisible",
                                    "3": "False",
                                    "4": "NULL",
                                    "5": "CPC"
                                },
                                {
                                    "0": "73",
                                    "1": "NULL",
                                    "2": "CPC_IsInspectorsVisible",
                                    "3": "False",
                                    "4": "NULL",
                                    "5": "CPC"
                                },
                                {
                                    "0": "74",
                                    "1": "NULL",
                                    "2": "CPC_IsManualGraveVisible",
                                    "3": "True",
                                    "4": "NULL",
                                    "5": "CPC"
                                },
                                {
                                    "0": "75",
                                    "1": "NULL",
                                    "2": "CPC_IsMoldedDateVisible",
                                    "3": "False",
                                    "4": "NULL",
                                    "5": "NULL"
                                },
                                {
                                    "0": "76",
                                    "1": "NULL",
                                    "2": "CPC_IsOnlyNumericDMCInput",
                                    "3": "False",
                                    "4": "CPC_IsOnlyNumericDMCInput",
                                    "5": "CPC"
                                },
                                {
                                    "0": "77",
                                    "1": "NULL",
                                    "2": "CPC_IsSlicesVisible",
                                    "3": "False",
                                    "4": "NULL",
                                    "5": "CPC"
                                },
                                {
                                    "0": "78",
                                    "1": "0",
                                    "2": "CPC_LBMaterialFontSize",
                                    "3": "24",
                                    "4": "Set the FontSize of the ListBox 'Material' - default value = 24.0",
                                    "5": "NULL"
                                },
                                {
                                    "0": "79",
                                    "1": "NULL",
                                    "2": "CPC_ShowLastHistory",
                                    "3": "false",
                                    "4": "True if the last 20 not DMC dependent bookings should be displayed instead",
                                    "5": "CPC"
                                },
                                {
                                    "0": "80",
                                    "1": "NULL",
                                    "2": "scrap_detail",
                                    "3": "ALA-Q-MON_0003",
                                    "4": "NULL",
                                    "5": "NULL"
                                },
                                {
                                    "0": "81",
                                    "1": "NULL",
                                    "2": "CPC_IsCorePinNumberVisible",
                                    "3": "True",
                                    "4": "CorePinNumberVisible ii True",
                                    "5": "NULL"
                                },
                                {
                                    "0": "82",
                                    "1": "NULL",
                                    "2": "CPC_IsCoreDescriptionVisible",
                                    "3": "False",
                                    "4": "CoreDescriptionVisible = True",
                                    "5": "NULL"
                                },
                                {
                                    "0": "84",
                                    "1": "0",
                                    "2": "CPC_ActivatePartStateD",
                                    "3": "False",
                                    "4": "'True', if CPC_PartStateD should be active",
                                    "5": "NULL"
                                },
                                {
                                    "0": "85",
                                    "1": "NULL",
                                    "2": "CPC_IsToolListBoxVisible",
                                    "3": "True",
                                    "4": "Bereich für TOOL anzeigen",
                                    "5": "NULL"
                                },
                                {
                                    "0": "86",
                                    "1": "NULL",
                                    "2": "CPC_IsSingleErrorPosSel",
                                    "3": "False",
                                    "4": "only one grid point is allowed",
                                    "5": "NULL"
                                },
                                {
                                    "0": "87",
                                    "1": "NULL",
                                    "2": "NOR_Default_Language",
                                    "3": "9",
                                    "4": "Language_Group_ID of the default Language for this server",
                                    "5": "NULL"
                                },
                                {
                                    "0": "88",
                                    "1": "NULL",
                                    "2": "CPC_IsShiftGroupEnabled",
                                    "3": "False",
                                    "4": "Only for MDE Booking Manager: True -> Show Shiftgroups; False -> Show Shift",
                                    "5": "NULL"
                                },
                                {
                                    "0": "89",
                                    "1": "NULL",
                                    "2": "MDE_CPC_MaxImageDimension",
                                    "3": "1024x768",
                                    "4": "[PixelWidth x PixelHeight] Uploaded Images will be shrinked to this Dimension",
                                    "5": "NULL"
                                },
                                {
                                    "0": "90",
                                    "1": "NULL",
                                    "2": "SIS_showQcode_sideInfo",
                                    "3": "1",
                                    "4": "NULL",
                                    "5": "NULL"
                                },
                                {
                                    "0": "92",
                                    "1": "NULL",
                                    "2": "SIS_showAval_sideInfo",
                                    "3": "15",
                                    "4": "NULL",
                                    "5": "NULL"
                                },
                                {
                                    "0": "93",
                                    "1": "NULL",
                                    "2": "DASH_hasRework",
                                    "3": "0",
                                    "4": "NULL",
                                    "5": "Dashboard"
                                },
                                {
                                    "0": "94",
                                    "1": "NULL",
                                    "2": "DASH_hundredisMax",
                                    "3": "0",
                                    "4": "NULL",
                                    "5": "Dashboard"
                                },
                                {
                                    "0": "95",
                                    "1": "NULL",
                                    "2": "DASH_SiteName",
                                    "3": "CHQ",
                                    "4": "NULL",
                                    "5": "Dashboard"
                                },
                                {
                                    "0": "96",
                                    "1": "NULL",
                                    "2": "DASH_hasButtons",
                                    "3": "1",
                                    "4": "NULL",
                                    "5": "Dashboard"
                                },
                                {
                                    "0": "97",
                                    "1": "NULL",
                                    "2": "DASH_hasDashboard",
                                    "3": "1",
                                    "4": "NULL",
                                    "5": "Dashboard"
                                },
                                {
                                    "0": "98",
                                    "1": "NULL",
                                    "2": "DASH_TopName",
                                    "3": "",
                                    "4": "NULL",
                                    "5": "Dashboard"
                                },
                                {
                                    "0": "99",
                                    "1": "NULL",
                                    "2": "DASH_LeftName",
                                    "3": "Analysis",
                                    "4": "",
                                    "5": "Dashboard"
                                },
                                {
                                    "0": "100",
                                    "1": "NULL",
                                    "2": "DASH_RightName",
                                    "3": "Quality",
                                    "4": "",
                                    "5": "Dashboard"
                                },
                                {
                                    "0": "101",
                                    "1": "NULL",
                                    "2": "NOR_Plant",
                                    "3": "Chongqing",
                                    "4": "NULL",
                                    "5": "NULL"
                                },
                                {
                                    "0": "102",
                                    "1": "NULL",
                                    "2": "NMI_SHOW_SW",
                                    "3": "1",
                                    "4": "NULL",
                                    "5": "NULL"
                                },
                                {
                                    "0": "103",
                                    "1": "NULL",
                                    "2": "NORIS_TransferJob_Email_Subject",
                                    "3": "NORIS_TransferJob",
                                    "4": "Email Subject for NORIS TransferJob",
                                    "5": "NULL"
                                },
                                {
                                    "0": "104",
                                    "1": "NULL",
                                    "2": "NORIS_TransferJob_Email_Recipient",
                                    "3": "joey.duan@nemak.com;",
                                    "4": "Email Recipient for NORIS TransferJob - splited by semicolon (;)",
                                    "5": "NULL"
                                },
                                {
                                    "0": "105",
                                    "1": "NULL",
                                    "2": "SW_link_work_instruction",
                                    "3": "http://chqaps0004/CHQ_NMI/SWAPP/{mfplant}_{partnr}_001.pdf",
                                    "4": "NULL",
                                    "5": "NULL"
                                },
                                {
                                    "0": "106",
                                    "1": "NULL",
                                    "2": "SW_link_time_study",
                                    "3": "http://chqaps0004/CHQ_NMI/SWAPP/{mfplant}_{partnr}_002.pdf",
                                    "4": "NULL",
                                    "5": "NULL"
                                },
                                {
                                    "0": "107",
                                    "1": "NULL",
                                    "2": "SW_link_SWCT",
                                    "3": "http://chqaps0004/CHQ_NMI/SWAPP/{mfplant}_{partnr}_003.pdf",
                                    "4": "NULL",
                                    "5": "NULL"
                                },
                                {
                                    "0": "108",
                                    "1": "NULL",
                                    "2": "SW_link_SWC",
                                    "3": "http://chqaps0004/CHQ_NMI/SWAPP/{mfplant}_{partnr}_004.pdf",
                                    "4": "NULL",
                                    "5": "NULL"
                                },
                                {
                                    "0": "110",
                                    "1": "NULL",
                                    "2": "NMI_TPM_enable",
                                    "3": "1",
                                    "4": "enables TPM...",
                                    "5": "NULL"
                                },
                                {
                                    "0": "111",
                                    "1": "NULL",
                                    "2": "TPM_config",
                                    "3": "{\"notificationMode\":1,\"head\":\"Clare.Zhang@nemak.com\",\"head_mfplantgroup_1\":\"Clare.Zhang@nemak.com\"}",
                                    "4": "Configuration of TPM ==> see online-help",
                                    "5": "NULL"
                                },
                                {
                                    "0": "112",
                                    "1": "NULL",
                                    "2": "TPM_keyboard",
                                    "3": "0",
                                    "4": "enables operator view touch keyboard",
                                    "5": "NULL"
                                },
                                {
                                    "0": "115",
                                    "1": "NULL",
                                    "2": "NOR_Keyboard_Configuration",
                                    "3": "{\"TPM_touchtext\": {\"default\" : [\"\\u20AC 1 2 3 4 5 6 7 8 9 0 - = {bksp}\",\"{tab} \\u624B \\u7530 \\u6C34 \\u53E3 \\u5EFF \\u535C \\u5C71 \\u6208 \\u4EBA \\u5FC3 [ ] \\\\\",\"\\u65E5 \\u5C38 \\u6728 \\u706B \\u571F \\u7AF9 \\u5341 \\u5927 \\u4E2D ; \\\" {enter}\",\"{shift} \\uFF3A \\u96E3 \\u91D1 \\u5973 \\u6708 \\u5F13 \\u4E00 . - / {shift}\",\"{accept} {alt} {space} {alt} {cancel}\"],\"alt\" : [\"` 1 2 3 4 5 6 7 8 9 0 - = {bksp}\",\"{tab} q w e r t y u i o p [ ] \\\\\",\"a s d f g h j k l ; {enter}\",\"{shift} z x c v b n m , . / {shift}\",\"{accept} {alt} {space} {alt} {cancel}\"],\"alt-shift\" : [\"~ ! @ # $ % ^ & * ( ) _ + {bksp}\",\"{tab} Q W E R T Y U I O P { } |\",\"A S D F G H J K L : {enter}\",\"{shift} Z X C V B N M < > ? {shift}\",\"{accept} {alt} {space} {alt} {cancel}\"]}}",
                                    "4": "NULL",
                                    "5": "NULL"
                                },
                                {
                                    "0": "116",
                                    "1": "NULL",
                                    "2": "TSM_Report",
                                    "3": "http://chqaps0004.as.nemak.net/CHQ_NMI/tsm",
                                    "4": "NULL",
                                    "5": "NULL"
                                },
                                {
                                    "0": "117",
                                    "1": "NULL",
                                    "2": "NMI_TSM_ReportingConfig",
                                    "3": "{\"refreshRateSeconds\": 30,\"lookBackHours\": 8,\"jobTimeoutMinutes\": 120,\"lines\": [{\"id\":1,\"name\": \"HPDC\",\"machines\": [101,102,103,104,105,106,107,108,109,110,115,116], \"events\":[\"Kleine Wartung\"]},{\"id\":\"2\",\"name\": \"Finishing\",\"machines\": [601,602,603,604], \"events\":[\"Kleine Wartung\"]}]} ",
                                    "4": "NULL",
                                    "5": "NULL"
                                },
                                {
                                    "0": "119",
                                    "1": "NULL",
                                    "2": "MDE_CPC_FormingFilter",
                                    "3": "1|2|3|4|5",
                                    "4": "NULL",
                                    "5": "MDE"
                                },
                                {
                                    "0": "120",
                                    "1": "NULL",
                                    "2": "NMI_is_show_liner",
                                    "3": "True",
                                    "4": "NULL",
                                    "5": "NULL"
                                },
                                {
                                    "0": "121",
                                    "1": "NULL",
                                    "2": "NMI_Liner_usedCharacteristics",
                                    "3": "all",
                                    "4": "NULL",
                                    "5": "NULL"
                                },
                                {
                                    "0": "122",
                                    "1": "NULL",
                                    "2": "NMI_ShiftGroup",
                                    "3": "True",
                                    "4": "NULL",
                                    "5": "NULL"
                                },
                                {
                                    "0": "123",
                                    "1": "NULL",
                                    "2": "NMI_sleeve_regex",
                                    "3": "/^[0-9]{7}$/i",
                                    "4": "NULL",
                                    "5": "NULL"
                                },
                                {
                                    "0": "124",
                                    "1": "NULL",
                                    "2": "NMI_tool_selection_mode",
                                    "3": "2",
                                    "4": "select from dbo.tool",
                                    "5": "NULL"
                                },
                                {
                                    "0": "125",
                                    "1": "NULL",
                                    "2": "NDS_BaseLink",
                                    "3": "http://chqaps0004.as.nemak.net/CHQ_NDS",
                                    "4": "",
                                    "5": "NDS"
                                },
                                {
                                    "0": "126",
                                    "1": "NULL",
                                    "2": "MDE_BaseLink",
                                    "3": "http://chqaps0004.as.nemak.net/CHQ_MDE",
                                    "4": "",
                                    "5": "MDE"
                                },
                                {
                                    "0": "127",
                                    "1": "NULL",
                                    "2": "NMI_BaseLink",
                                    "3": "http://chqaps0004.as.nemak.net/CHQ_NMI",
                                    "4": "",
                                    "5": "NMI"
                                },
                                {
                                    "0": "128",
                                    "1": "NULL",
                                    "2": "OEEE_BaseLink",
                                    "3": "http://chqaps0004.as.nemak.net/CHQ_OEEE",
                                    "4": "",
                                    "5": "OEEE"
                                },
                                {
                                    "0": "129",
                                    "1": "NULL",
                                    "2": "MDE_NRA_ProblemType",
                                    "3": "ProblemType1;ProblemType2;ProblemType3",
                                    "4": "NULL",
                                    "5": "MDE"
                                },
                                {
                                    "0": "130",
                                    "1": "NULL",
                                    "2": "MDE_NRA_RootCause",
                                    "3": "RootCause1;RootCause2;RootCause3",
                                    "4": "NULL",
                                    "5": "MDE"
                                },
                                {
                                    "0": "131",
                                    "1": "NULL",
                                    "2": "MDE_NRA_ImmediateAction",
                                    "3": "ImmediateAction1;ImmediateAction2;ImmediateAction3",
                                    "4": "NULL",
                                    "5": "MDE"
                                },
                                {
                                    "0": "132",
                                    "1": "NULL",
                                    "2": "MDE_NRA_PlannedAction",
                                    "3": "PlannedAction1;PlannedAction2;PlannedAction3",
                                    "4": "NULL",
                                    "5": "MDE"
                                },
                                {
                                    "0": "133",
                                    "1": "NULL",
                                    "2": "MDE_NRA_ImplementedAction",
                                    "3": "ImplementedAction1;ImplementedAction2;ImplementedAction3",
                                    "4": "NULL",
                                    "5": "MDE"
                                },
                                {
                                    "0": "134",
                                    "1": "NULL",
                                    "2": "NTS_Set_MachinesWithoutDMC",
                                    "3": "[]",
                                    "4": "Defines which machines can create Sets(Production) without DMC. Format [xxx,xxx]",
                                    "5": "NULL"
                                },
                                {
                                    "0": "135",
                                    "1": "NULL",
                                    "2": "NTS_WIP_GreenLimit",
                                    "3": "72",
                                    "4": "Sets the Limit for the green bars in\r\nthe WIP view of the NTS",
                                    "5": "NULL"
                                },
                                {
                                    "0": "136",
                                    "1": "NULL",
                                    "2": "NTS_SetIsCheckingTool",
                                    "3": "0",
                                    "4": "1 => The Set Creation is checking the NOR_Tool and the Tool_State, if the Tool_State is for production allowed.",
                                    "5": "NULL"
                                },
                                {
                                    "0": "137",
                                    "1": "NULL",
                                    "2": "NTS_Default_ShiftModel",
                                    "3": "28",
                                    "4": "NTS_Default_ShiftModel",
                                    "5": "NULL"
                                },
                                {
                                    "0": "138",
                                    "1": "NULL",
                                    "2": "NTS_WIP_YellowLimit",
                                    "3": "120",
                                    "4": "Sets the Limt for the yellow bars in\r\nthe WIP view of the NTS",
                                    "5": "NULL"
                                },
                                {
                                    "0": "139",
                                    "1": "NULL",
                                    "2": "NTS_SetTransfer_Days\r\nToLookBack",
                                    "3": "10",
                                    "4": "Days to look back for the list of the\r\nbaskets in the Set Transfer page",
                                    "5": "NULL"
                                },
                                {
                                    "0": "140",
                                    "1": "NULL",
                                    "2": "NTS_BaseLink",
                                    "3": "http://chqaps0004.as.nemak.net/CHQ_NTS",
                                    "4": "NTS base link configuration",
                                    "5": "NTS"
                                },
                                {
                                    "0": "141",
                                    "1": "NULL",
                                    "2": "NMI_SHOW_OEE",
                                    "3": "1",
                                    "4": "NULL",
                                    "5": "NULL"
                                },
                                {
                                    "0": "142",
                                    "1": "NULL",
                                    "2": "NMI_RawData_Regex",
                                    "3": "\\d+",
                                    "4": "Regex which groups the raw data",
                                    "5": "NULL"
                                },
                                {
                                    "0": "143",
                                    "1": "NULL",
                                    "2": "NPC_Config_Master_Button_BookingType",
                                    "3": "{\"width\":\"100px\",\"height\":\"30px\"}",
                                    "4": "NULL",
                                    "5": "NULL"
                                },
                                {
                                    "0": "144",
                                    "1": "NULL",
                                    "2": "NPC_Config_Master_Button_ImageSide",
                                    "3": "{\"width\":\"200px\",\"height\":\"30px\"}",
                                    "4": "NULL",
                                    "5": "NULL"
                                },
                                {
                                    "0": "145",
                                    "1": "NULL",
                                    "2": "NPC_Config_Master_Button_Error",
                                    "3": "{\"width\":\"200px\",\"height\":\"30px\"}",
                                    "4": "NULL",
                                    "5": "NULL"
                                },
                                {
                                    "0": "146",
                                    "1": "NULL",
                                    "2": "NPC_Config_BookingManager_HiddenColumns",
                                    "3": "0",
                                    "4": "NULL",
                                    "5": "NULL"
                                },
                                {
                                    "0": "147",
                                    "1": "NULL",
                                    "2": "NPC_Config_BookingManager_HiddenFilters",
                                    "3": "0",
                                    "4": "NULL",
                                    "5": "NULL"
                                },
                                {
                                    "0": "148",
                                    "1": "NULL",
                                    "2": "NPC_BaseLink",
                                    "3": "http://chqaps0004.as.nemak.net/CHQ_NPC",
                                    "4": "NULL",
                                    "5": "NPC"
                                },
                                {
                                    "0": "149",
                                    "1": "NULL",
                                    "2": "NPC_Config_IsBookingConfirmationActive",
                                    "3": "true",
                                    "4": "NULL",
                                    "5": "NULL"
                                },
                                {
                                    "0": "150",
                                    "1": "NULL",
                                    "2": "NPC_Config_Whitelist",
                                    "3": "true",
                                    "4": "NULL",
                                    "5": "NULL"
                                },
                                {
                                    "0": "151",
                                    "1": "NULL",
                                    "2": "NPC_Config_Reset",
                                    "3": "7",
                                    "4": "NULL",
                                    "5": "NULL"
                                },
                                {
                                    "0": "152",
                                    "1": "NULL",
                                    "2": "NPC_Var_Input_Text_01",
                                    "3": "1",
                                    "4": "NULL",
                                    "5": "NPC"
                                },
                                {
                                    "0": "153",
                                    "1": "NULL",
                                    "2": "NTS_Set_CanSaveBasketsForLater",
                                    "3": "True",
                                    "4": "Allows basket creation app to save incomplete baskets in order to filled out later.",
                                    "5": "NULL"
                                },
                                {
                                    "0": "156",
                                    "1": "NULL",
                                    "2": "CLS_Validation_Strict",
                                    "3": "1",
                                    "4": "NULL",
                                    "5": "NULL"
                                },
                                {
                                    "0": "157",
                                    "1": "NULL",
                                    "2": "CLS_WIP_Enable",
                                    "3": "0",
                                    "4": "NULL",
                                    "5": "NULL"
                                },
                                {
                                    "0": "162",
                                    "1": "NULL",
                                    "2": "DASH_MachineGroup",
                                    "3": "1",
                                    "4": "NULL",
                                    "5": "NULL"
                                },
                                {
                                    "0": "163",
                                    "1": "NULL",
                                    "2": "NMI_CSM_Stock_StartMode",
                                    "3": "1",
                                    "4": "NULL",
                                    "5": "NULL"
                                },
                                {
                                    "0": "164",
                                    "1": "NULL",
                                    "2": "NMI_Filter_ProductGroup",
                                    "3": "1|3|4|5",
                                    "4": "NULL",
                                    "5": "NULL"
                                },
                                {
                                    "0": "165",
                                    "1": "NULL",
                                    "2": "NPC_Var_Selection_01",
                                    "3": "1",
                                    "4": "NULL",
                                    "5": "NULL"
                                },
                                {
                                    "0": "166",
                                    "1": "NULL",
                                    "2": "NPC_Var_Selection_02",
                                    "3": "2",
                                    "4": "NULL",
                                    "5": "NULL"
                                },
                                {
                                    "0": "167",
                                    "1": "NULL",
                                    "2": "NPC_Var_Selection_03",
                                    "3": "0",
                                    "4": "NULL",
                                    "5": "NULL"
                                },
                                {
                                    "0": "169",
                                    "1": "NULL",
                                    "2": "OEE_GanttBar_Email_Recipient",
                                    "3": "joey.duan@nemak.com;",
                                    "4": "NULL",
                                    "5": "OEEE"
                                },
                                {
                                    "0": "170",
                                    "1": "NULL",
                                    "2": "OEE_News_Enable",
                                    "3": "1",
                                    "4": "NULL",
                                    "5": "OEEE"
                                },
                                {
                                    "0": "171",
                                    "1": "NULL",
                                    "2": "NPC_Var_Selection_UserGroup_Machine",
                                    "3": "1",
                                    "4": "NULL",
                                    "5": "NULL"
                                },
                                {
                                    "0": "172",
                                    "1": "NULL",
                                    "2": "NOR_Tool_Template",
                                    "3": "{{Tool}}",
                                    "4": "NULL",
                                    "5": "NULL"
                                },
                                {
                                    "0": "173",
                                    "1": "NULL",
                                    "2": "CPC_MultiCavitiesSeperator",
                                    "3": "->",
                                    "4": "NULL",
                                    "5": "CPC"
                                },
                                {
                                    "0": "174",
                                    "1": "NULL",
                                    "2": "NOR_CavitiesEnabled",
                                    "3": "True",
                                    "4": "NULL",
                                    "5": "NULL"
                                },
                                {
                                    "0": "175",
                                    "1": "NULL",
                                    "2": "NTS_PrintLabelFormat",
                                    "3": "{id}-{yy}-{mm}-{dd}",
                                    "4": "NULL",
                                    "5": "NULL"
                                },
                                {
                                    "0": "176",
                                    "1": "NULL",
                                    "2": "NTS_SetReprintPassword",
                                    "3": "99",
                                    "4": "NULL",
                                    "5": "NULL"
                                },
                                {
                                    "0": "177",
                                    "1": "NULL",
                                    "2": "NMI_HU_SetMachines",
                                    "3": "2601",
                                    "4": "NULL",
                                    "5": "NULL"
                                },
                                {
                                    "0": "178",
                                    "1": "NULL",
                                    "2": "OEEE_CreateProductionCallBack_Enabled",
                                    "3": "1",
                                    "4": "NULL",
                                    "5": "OEEE"
                                },
                                {
                                    "0": "179",
                                    "1": "NULL",
                                    "2": "NOR_Default_ShiftModel",
                                    "3": "28",
                                    "4": "Specifies the ShiftModel associated to usergroup entries. Former NTS_Default_ShiftModel setting. Affects multiple NORIS Applications.",
                                    "5": "NOR"
                                },
                                {
                                    "0": "180",
                                    "1": "NULL",
                                    "2": "NTS_SetTransfer_IsInputOnly",
                                    "3": "0",
                                    "4": "When true, baskets can only be selected via the input field in the Set Transfer component",
                                    "5": "NTS"
                                },
                                {
                                    "0": "181",
                                    "1": "NULL",
                                    "2": "NTS_SSRS_Quarantine_Report_Link",
                                    "3": "NULL",
                                    "4": "Report link to quarantine Report",
                                    "5": "NTS"
                                },
                                {
                                    "0": "182",
                                    "1": "NULL",
                                    "2": "NSD_BaseLink",
                                    "3": "http://chqaps0004.as.nemak.net/CHQ_NSD",
                                    "4": "NULL",
                                    "5": "NSD"
                                },
                                {
                                    "0": "185",
                                    "1": "NULL",
                                    "2": "NMI2_BaseLink",
                                    "3": "http://chqaps0004.as.nemak.net/CHQ_NMI2",
                                    "4": "NULL",
                                    "5": "NMI2"
                                },
                                {
                                    "0": "187",
                                    "1": "NULL",
                                    "2": "NWEB_BaseLink",
                                    "3": "http://chqaps0004.as.nemak.net:8000",
                                    "4": "NULL",
                                    "5": "NWEB"
                                },
                                {
                                    "0": "188",
                                    "1": "NULL",
                                    "2": "NSD_Notification_RecipientList",
                                    "3": "NULL",
                                    "4": "NULL",
                                    "5": "NSD"
                                },
                                {
                                    "0": "189",
                                    "1": "NULL",
                                    "2": "NPS_BaseLink",
                                    "3": "https://chqaps0004.as.nemak.net/CHQ_NPS",
                                    "4": "NULL",
                                    "5": "NPS"
                                },
                                {
                                    "0": "190",
                                    "1": "NULL",
                                    "2": "NOR_Logical_ManufacturingPlant_Groups",
                                    "3": "[[101],[102]]",
                                    "4": "NULL",
                                    "5": "NULL"
                                }
                            ]
                        },
                        "text/html": [
                            "<table>",
                            "<tr><th>ID_Setting</th><th>ID_NOR_grp</th><th>Value_Name</th><th>Value_Str</th><th>Comment</th><th>ApplicationId</th></tr>",
                            "<tr><td>2</td><td>1</td><td>MinimumTargetFigure</td><td>10</td><td>MinimumTargetFigure for MDL_Data_plan calculation</td><td>NULL</td></tr>",
                            "<tr><td>3</td><td>1</td><td>red_target</td><td></td><td>reduction of target</td><td>NULL</td></tr>",
                            "<tr><td>4</td><td>1</td><td>Skimmings_percentage</td><td>1,6</td><td>Krätze Prozent</td><td>NULL</td></tr>",
                            "<tr><td>5</td><td>1</td><td>ReportPlantABC</td><td>CHQ</td><td>depends of the Plant e.g. SVK, LNZ, ...</td><td>NULL</td></tr>",
                            "<tr><td>6</td><td>1</td><td>NOR-NOQ-IS-0014_Tablix2</td><td>False</td><td>visible</td><td>NULL</td></tr>",
                            "<tr><td>7</td><td>1</td><td>NOR-NOQ-IS-0014_Tablix2_svk</td><td>True</td><td>visible</td><td>NULL</td></tr>",
                            "<tr><td>8</td><td>1</td><td>NOR-NOQ-IS-0014_Chart1</td><td>False</td><td>visible</td><td>NULL</td></tr>",
                            "<tr><td>9</td><td>1</td><td>NOR-NOQ-IS-0014_Chart2</td><td>False</td><td>visible</td><td>NULL</td></tr>",
                            "<tr><td>10</td><td>1</td><td>Plant_Image_Path</td><td>http://alasql0002.am.nemak.net/ReportServer?%2fImages%2f</td><td>NULL</td><td>NULL</td></tr>",
                            "<tr><td>11</td><td>1</td><td>NOR-Q-YY_mm.rdl_ErrorExpandList</td><td>True</td><td>show the list</td><td>NULL</td></tr>",
                            "<tr><td>13</td><td>NULL</td><td>booking_option_visible_internal</td><td>True</td><td>test status!!!</td><td>NULL</td></tr>",
                            "<tr><td>14</td><td>NULL</td><td>booking_option_visible_external</td><td>False</td><td>test status!!!</td><td>NULL</td></tr>",
                            "<tr><td>15</td><td>NULL</td><td>booking_option_value_internal</td><td>internal</td><td>test status!!!</td><td>NULL</td></tr>",
                            "<tr><td>16</td><td>NULL</td><td>booking_option_value_external</td><td>external</td><td>test status!!!</td><td>NULL</td></tr>",
                            "<tr><td>17</td><td>NULL</td><td>quality_location_internal</td><td>1</td><td>1=enable; 0=disable</td><td>NULL</td></tr>",
                            "<tr><td>18</td><td>NULL</td><td>quality_location_external</td><td>0</td><td>2=enable; 0=disable</td><td>NULL</td></tr>",
                            "<tr><td>19</td><td>NULL</td><td>quality_datatyp_casting</td><td>10</td><td>10=enable; 0=disable</td><td>NULL</td></tr>",
                            "<tr><td>20</td><td>NULL</td><td>quality_datatyp_collecting</td><td>20</td><td>20=enable; 0=disable</td><td>NULL</td></tr>",
                            "<tr><td>21</td><td>NULL</td><td>daily_mail_to</td><td>markus.baumann@nemak.com</td><td>NULL</td><td>NULL</td></tr>",
                            "<tr><td>22</td><td>NULL</td><td>SSRS_home</td><td>http://alasql0002.am.nemak.net/Reports</td><td>NULL</td><td>NULL</td></tr>",
                            "<tr><td>25</td><td>1</td><td>SSRS_home_subdir</td><td>/Pages/Report.aspx?ItemPath=%2fALA_HP%2fscrap-rework%2fintern%2fALA-SYS-GL-0001</td><td>NULL</td><td>NULL</td></tr>",
                            "<tr><td>26</td><td>2</td><td>CAP_SyncCycleTime</td><td>60</td><td>Duration of one sync cycle in seconds</td><td>NULL</td></tr>",
                            "<tr><td>27</td><td>2</td><td>CAP_ExitPassword</td><td>1234</td><td>Password to exit application</td><td>NULL</td></tr>",
                            "<tr><td>28</td><td>2</td><td>CAP_Outdated</td><td>12</td><td>Elapsed hours, the gui is locked due to outdated error</td><td>NULL</td></tr>",
                            "<tr><td>29</td><td>2</td><td>CAP_AvailableLanguages</td><td>2|9</td><td>Available languages seperated by |</td><td>NULL</td></tr>",
                            "<tr><td>30</td><td>2</td><td>RoleFilter_0201</td><td>3</td><td>Available moldings for coremakers seperated by |</td><td>NULL</td></tr>",
                            "<tr><td>31</td><td>2</td><td>RoleFilter_0202</td><td>3</td><td>Available moldings for coremakers seperated by |</td><td>NULL</td></tr>",
                            "<tr><td>32</td><td>2</td><td>CAP_LogInfoOutdated</td><td>1</td><td>Days after which a log entry of type Information is being locally deleted</td><td>NULL</td></tr>",
                            "<tr><td>33</td><td>2</td><td>CAP_LogWarningOutdated</td><td>7</td><td>Days after which a log entry of type Warning is being locally deleted</td><td>NULL</td></tr>",
                            "<tr><td>34</td><td>2</td><td>CAP_LogErrorOutdated</td><td>31</td><td>Days after which a log entry of type Error is being locally deleted</td><td>NULL</td></tr>",
                            "<tr><td>35</td><td>2</td><td>CAP_CarrierContentScope</td><td>45</td><td>Timespan, CarrierContent and CarrierContentItem are locally synchronized</td><td>NULL</td></tr>",
                            "<tr><td>36</td><td>2</td><td>CAP_EMAILServerURL</td><td>NMKEXC1000.nemak.net</td><td>MailserverUrl for sending CAP Mails</td><td>NULL</td></tr>",
                            "<tr><td>37</td><td>2</td><td>CAP_EMAILServerPort</td><td>25</td><td>Mailserver Port for sending CAP Mails</td><td>NULL</td></tr>",
                            "<tr><td>38</td><td>2</td><td>CAP_EMAILRcptList</td><td>test1@nemak.com|test2@nemak.com</td><td>EMail adresses for CAP Admins - split by &gt;|&lt;</td><td>NULL</td></tr>",
                            "<tr><td>39</td><td>2</td><td>CAP_EMAILSender</td><td>CAP-auto-mail@nemak.com</td><td>EMail adress for CAP Sender</td><td>NULL</td></tr>",
                            "<tr><td>40</td><td>2</td><td>CAP_EMAILBodyContent</td><td>Information von NORIS CSM:&lt;br /&gt;&lt;br /&gt;Absender: {SENDERNAME}&lt;br /&gt;&lt;br /&gt;{MESSAGE}</td><td>EMail content of CAP Info Mail</td><td>NULL</td></tr>",
                            "<tr><td>41</td><td>2</td><td>CAP_EMAILSubjectContent</td><td>NORIS CSM - Information</td><td>EMail subject for CAP</td><td>NULL</td></tr>",
                            "<tr><td>42</td><td>2</td><td>CAP_LogVerboseOutdated</td><td>1</td><td>Hours after which a log entry of type Verbose is being locally deleted</td><td>NULL</td></tr>",
                            "<tr><td>43</td><td>NULL</td><td>CPC_ActivePlants</td><td>2001</td><td>Active Plants for CPC </td><td>NULL</td></tr>",
                            "<tr><td>44</td><td>NULL</td><td>CPC_Color_MatrixFrameDefault</td><td>Transparent</td><td>Default Grid Lines Color</td><td>NULL</td></tr>",
                            "<tr><td>45</td><td>NULL</td><td>CPC_Color_MatrixFrameSelected</td><td>Red</td><td>Default Grid Selected Item Color</td><td>NULL</td></tr>",
                            "<tr><td>46</td><td>NULL</td><td>CPC_DefaultImageMatrixPenThickness</td><td>0.2</td><td>Default Grid Lines Thickness</td><td>NULL</td></tr>",
                            "<tr><td>47</td><td>NULL</td><td>CPC_IsCtrlVisible_ExternalWork</td><td>False</td><td>NULL</td><td>NULL</td></tr>",
                            "<tr><td>48</td><td>NULL</td><td>CPC_IsCtrlVisible_Level</td><td>True</td><td>NULL</td><td>NULL</td></tr>",
                            "<tr><td>49</td><td>NULL</td><td>CPC_IsCtrlVisible_Strang</td><td>False</td><td>NULL</td><td>NULL</td></tr>",
                            "<tr><td>50</td><td>NULL</td><td>CPC_SidesColors</td><td>#FF87B3|#FFD8B2|#C8FFAF|#AAFFD7|#AFDCFF|#D8ADFF</td><td>Colors for every ImgSide in the CPC_ImgSide Table</td><td>NULL</td></tr>",
                            "<tr><td>51</td><td>10</td><td>NMI_SHOW_GRAPH</td><td>1</td><td>NULL</td><td>NULL</td></tr>",
                            "<tr><td>53</td><td>NULL</td><td>Dashboard</td><td>http://mynemak.nemak.net/Collaboration/RegionalUnits/NORIS/Chongqing/default.aspx</td><td>NULL</td><td>NULL</td></tr>",
                            "<tr><td>54</td><td>NULL</td><td>CPC_Double_MatrixTOpacityDefault</td><td>0.1</td><td>Default Grid Description Thickness</td><td>NULL</td></tr>",
                            "<tr><td>55</td><td>NULL</td><td>CPC_Color_MatrixTColorDefault</td><td>Transparent</td><td>Default Grid Description Color </td><td>NULL</td></tr>",
                            "<tr><td>56</td><td>NULL</td><td>CPC_DefaultSelectedMatrixItemPenThickness</td><td>1</td><td></td><td>NULL</td></tr>",
                            "<tr><td>57</td><td>NULL</td><td>NMI_ShiftGroup1</td><td>1</td><td>NULL</td><td>NULL</td></tr>",
                            "<tr><td>60</td><td>2</td><td>CPC_IsStrangShiftgroup</td><td>True</td><td>True = Field [Strang] stores [Shiftgroup]</td><td>NULL</td></tr>",
                            "<tr><td>61</td><td>NULL</td><td>CPC_UseMultipleDMC</td><td>false</td><td>CPC_UseMultipleDMC: True for Monclova, False for all others</td><td>CPC</td></tr>",
                            "<tr><td>62</td><td>NULL</td><td>CPC_ActivateCollection</td><td>False</td><td>NULL</td><td>CPC</td></tr>",
                            "<tr><td>63</td><td>NULL</td><td>CPC_CoatingStationActivated</td><td>False</td><td>Display CoatingStation fields in CPC or not</td><td>CPC</td></tr>",
                            "<tr><td>64</td><td>0</td><td>CPC_EnableDayOfYearControl</td><td>false</td><td>&quot;True&quot; if you want to display day of year instead of datetime control</td><td></td></tr>",
                            "<tr><td>65</td><td>NULL</td><td>CPC_GlueActivated</td><td>False</td><td>CPC_GlueActivated</td><td>NULL</td></tr>",
                            "<tr><td>66</td><td>0</td><td>CPC_Intercomp_PlantGroupId</td><td>9998</td><td>CPC_Intercomp_PlantGroupId</td><td>CPC</td></tr>",
                            "<tr><td>67</td><td>NULL</td><td>CPC_IsCoatedDateVisible          </td><td>False</td><td>NULL</td><td>NULL</td></tr>",
                            "<tr><td>68</td><td>NULL</td><td>CPC_IsConfigurationBatchNumber</td><td>False</td><td>NULL</td><td>CPC</td></tr>",
                            "<tr><td>69</td><td>NULL</td><td>CPC_IsCtrlVisible_CreShiftgroup</td><td>True</td><td></td><td>CPC</td></tr>",
                            "<tr><td>70</td><td>NULL</td><td>CPC_IsDetectionLocation</td><td>False</td><td>NULL</td><td>NULL</td></tr>",
                            "<tr><td>71</td><td>NULL</td><td>CPC_ISGluedDateVisible</td><td>False</td><td>NULL</td><td>NULL</td></tr>",
                            "<tr><td>72</td><td>NULL</td><td>CPC_IsGraveVisible</td><td>False</td><td>NULL</td><td>CPC</td></tr>",
                            "<tr><td>73</td><td>NULL</td><td>CPC_IsInspectorsVisible</td><td>False</td><td>NULL</td><td>CPC</td></tr>",
                            "<tr><td>74</td><td>NULL</td><td>CPC_IsManualGraveVisible</td><td>True</td><td>NULL</td><td>CPC</td></tr>",
                            "<tr><td>75</td><td>NULL</td><td>CPC_IsMoldedDateVisible</td><td>False</td><td>NULL</td><td>NULL</td></tr>",
                            "<tr><td>76</td><td>NULL</td><td>CPC_IsOnlyNumericDMCInput</td><td>False</td><td>CPC_IsOnlyNumericDMCInput</td><td>CPC</td></tr>",
                            "<tr><td>77</td><td>NULL</td><td>CPC_IsSlicesVisible</td><td>False</td><td>NULL</td><td>CPC</td></tr>",
                            "<tr><td>78</td><td>0</td><td>CPC_LBMaterialFontSize</td><td>24</td><td>Set the FontSize of the ListBox 'Material' - default value = 24.0</td><td>NULL</td></tr>",
                            "<tr><td>79</td><td>NULL</td><td>CPC_ShowLastHistory</td><td>false</td><td>True if the last 20 not DMC dependent bookings should be displayed instead</td><td>CPC</td></tr>",
                            "<tr><td>80</td><td>NULL</td><td>scrap_detail</td><td>ALA-Q-MON_0003</td><td>NULL</td><td>NULL</td></tr>",
                            "<tr><td>81</td><td>NULL</td><td>CPC_IsCorePinNumberVisible</td><td>True</td><td>CorePinNumberVisible ii True</td><td>NULL</td></tr>",
                            "<tr><td>82</td><td>NULL</td><td>CPC_IsCoreDescriptionVisible</td><td>False</td><td>CoreDescriptionVisible = True</td><td>NULL</td></tr>",
                            "<tr><td>84</td><td>0</td><td>CPC_ActivatePartStateD</td><td>False</td><td>'True', if CPC_PartStateD should be active</td><td>NULL</td></tr>",
                            "<tr><td>85</td><td>NULL</td><td>CPC_IsToolListBoxVisible</td><td>True</td><td>Bereich für TOOL anzeigen</td><td>NULL</td></tr>",
                            "<tr><td>86</td><td>NULL</td><td>CPC_IsSingleErrorPosSel</td><td>False</td><td>only one grid point is allowed</td><td>NULL</td></tr>",
                            "<tr><td>87</td><td>NULL</td><td>NOR_Default_Language</td><td>9</td><td>Language_Group_ID of the default Language for this server</td><td>NULL</td></tr>",
                            "<tr><td>88</td><td>NULL</td><td>CPC_IsShiftGroupEnabled</td><td>False</td><td>Only for MDE Booking Manager: True -&gt; Show Shiftgroups; False -&gt; Show Shift</td><td>NULL</td></tr>",
                            "<tr><td>89</td><td>NULL</td><td>MDE_CPC_MaxImageDimension</td><td>1024x768</td><td>[PixelWidth x PixelHeight] Uploaded Images will be shrinked to this Dimension</td><td>NULL</td></tr>",
                            "<tr><td>90</td><td>NULL</td><td>SIS_showQcode_sideInfo</td><td>1</td><td>NULL</td><td>NULL</td></tr>",
                            "<tr><td>92</td><td>NULL</td><td>SIS_showAval_sideInfo</td><td>15</td><td>NULL</td><td>NULL</td></tr>",
                            "<tr><td>93</td><td>NULL</td><td>DASH_hasRework</td><td>0</td><td>NULL</td><td>Dashboard</td></tr>",
                            "<tr><td>94</td><td>NULL</td><td>DASH_hundredisMax</td><td>0</td><td>NULL</td><td>Dashboard</td></tr>",
                            "<tr><td>95</td><td>NULL</td><td>DASH_SiteName</td><td>CHQ</td><td>NULL</td><td>Dashboard</td></tr>",
                            "<tr><td>96</td><td>NULL</td><td>DASH_hasButtons</td><td>1</td><td>NULL</td><td>Dashboard</td></tr>",
                            "<tr><td>97</td><td>NULL</td><td>DASH_hasDashboard</td><td>1</td><td>NULL</td><td>Dashboard</td></tr>",
                            "<tr><td>98</td><td>NULL</td><td>DASH_TopName</td><td></td><td>NULL</td><td>Dashboard</td></tr>",
                            "<tr><td>99</td><td>NULL</td><td>DASH_LeftName</td><td>Analysis</td><td></td><td>Dashboard</td></tr>",
                            "<tr><td>100</td><td>NULL</td><td>DASH_RightName</td><td>Quality</td><td></td><td>Dashboard</td></tr>",
                            "<tr><td>101</td><td>NULL</td><td>NOR_Plant</td><td>Chongqing</td><td>NULL</td><td>NULL</td></tr>",
                            "<tr><td>102</td><td>NULL</td><td>NMI_SHOW_SW</td><td>1</td><td>NULL</td><td>NULL</td></tr>",
                            "<tr><td>103</td><td>NULL</td><td>NORIS_TransferJob_Email_Subject</td><td>NORIS_TransferJob</td><td>Email Subject for NORIS TransferJob</td><td>NULL</td></tr>",
                            "<tr><td>104</td><td>NULL</td><td>NORIS_TransferJob_Email_Recipient</td><td>joey.duan@nemak.com;</td><td>Email Recipient for NORIS TransferJob - splited by semicolon (;)</td><td>NULL</td></tr>",
                            "<tr><td>105</td><td>NULL</td><td>SW_link_work_instruction</td><td>http://chqaps0004/CHQ_NMI/SWAPP/{mfplant}_{partnr}_001.pdf</td><td>NULL</td><td>NULL</td></tr>",
                            "<tr><td>106</td><td>NULL</td><td>SW_link_time_study</td><td>http://chqaps0004/CHQ_NMI/SWAPP/{mfplant}_{partnr}_002.pdf</td><td>NULL</td><td>NULL</td></tr>",
                            "<tr><td>107</td><td>NULL</td><td>SW_link_SWCT</td><td>http://chqaps0004/CHQ_NMI/SWAPP/{mfplant}_{partnr}_003.pdf</td><td>NULL</td><td>NULL</td></tr>",
                            "<tr><td>108</td><td>NULL</td><td>SW_link_SWC</td><td>http://chqaps0004/CHQ_NMI/SWAPP/{mfplant}_{partnr}_004.pdf</td><td>NULL</td><td>NULL</td></tr>",
                            "<tr><td>110</td><td>NULL</td><td>NMI_TPM_enable</td><td>1</td><td>enables TPM...</td><td>NULL</td></tr>",
                            "<tr><td>111</td><td>NULL</td><td>TPM_config</td><td>{&quot;notificationMode&quot;:1,&quot;head&quot;:&quot;Clare.Zhang@nemak.com&quot;,&quot;head_mfplantgroup_1&quot;:&quot;Clare.Zhang@nemak.com&quot;}</td><td>Configuration of TPM ==&gt; see online-help</td><td>NULL</td></tr>",
                            "<tr><td>112</td><td>NULL</td><td>TPM_keyboard</td><td>0</td><td>enables operator view touch keyboard</td><td>NULL</td></tr>",
                            "<tr><td>115</td><td>NULL</td><td>NOR_Keyboard_Configuration</td><td>{&quot;TPM_touchtext&quot;: {&quot;default&quot; : [&quot;\\u20AC 1 2 3 4 5 6 7 8 9 0 - = {bksp}&quot;,&quot;{tab} \\u624B \\u7530 \\u6C34 \\u53E3 \\u5EFF \\u535C \\u5C71 \\u6208 \\u4EBA \\u5FC3 [ ] \\\\&quot;,&quot;\\u65E5 \\u5C38 \\u6728 \\u706B \\u571F \\u7AF9 \\u5341 \\u5927 \\u4E2D ; \\&quot; {enter}&quot;,&quot;{shift} \\uFF3A \\u96E3 \\u91D1 \\u5973 \\u6708 \\u5F13 \\u4E00 . - / {shift}&quot;,&quot;{accept} {alt} {space} {alt} {cancel}&quot;],&quot;alt&quot; : [&quot;` 1 2 3 4 5 6 7 8 9 0 - = {bksp}&quot;,&quot;{tab} q w e r t y u i o p [ ] \\\\&quot;,&quot;a s d f g h j k l ; {enter}&quot;,&quot;{shift} z x c v b n m , . / {shift}&quot;,&quot;{accept} {alt} {space} {alt} {cancel}&quot;],&quot;alt-shift&quot; : [&quot;~ ! @ # $ % ^ &amp; * ( ) _ + {bksp}&quot;,&quot;{tab} Q W E R T Y U I O P { } |&quot;,&quot;A S D F G H J K L : {enter}&quot;,&quot;{shift} Z X C V B N M &lt; &gt; ? {shift}&quot;,&quot;{accept} {alt} {space} {alt} {cancel}&quot;]}}</td><td>NULL</td><td>NULL</td></tr>",
                            "<tr><td>116</td><td>NULL</td><td>TSM_Report</td><td>http://chqaps0004.as.nemak.net/CHQ_NMI/tsm</td><td>NULL</td><td>NULL</td></tr>",
                            "<tr><td>117</td><td>NULL</td><td>NMI_TSM_ReportingConfig</td><td>{&quot;refreshRateSeconds&quot;: 30,&quot;lookBackHours&quot;: 8,&quot;jobTimeoutMinutes&quot;: 120,&quot;lines&quot;: [{&quot;id&quot;:1,&quot;name&quot;: &quot;HPDC&quot;,&quot;machines&quot;: [101,102,103,104,105,106,107,108,109,110,115,116], &quot;events&quot;:[&quot;Kleine Wartung&quot;]},{&quot;id&quot;:&quot;2&quot;,&quot;name&quot;: &quot;Finishing&quot;,&quot;machines&quot;: [601,602,603,604], &quot;events&quot;:[&quot;Kleine Wartung&quot;]}]} </td><td>NULL</td><td>NULL</td></tr>",
                            "<tr><td>119</td><td>NULL</td><td>MDE_CPC_FormingFilter</td><td>1|2|3|4|5</td><td>NULL</td><td>MDE</td></tr>",
                            "<tr><td>120</td><td>NULL</td><td>NMI_is_show_liner</td><td>True</td><td>NULL</td><td>NULL</td></tr>",
                            "<tr><td>121</td><td>NULL</td><td>NMI_Liner_usedCharacteristics</td><td>all</td><td>NULL</td><td>NULL</td></tr>",
                            "<tr><td>122</td><td>NULL</td><td>NMI_ShiftGroup</td><td>True</td><td>NULL</td><td>NULL</td></tr>",
                            "<tr><td>123</td><td>NULL</td><td>NMI_sleeve_regex</td><td>/^[0-9]{7}$/i</td><td>NULL</td><td>NULL</td></tr>",
                            "<tr><td>124</td><td>NULL</td><td>NMI_tool_selection_mode</td><td>2</td><td>select from dbo.tool</td><td>NULL</td></tr>",
                            "<tr><td>125</td><td>NULL</td><td>NDS_BaseLink</td><td>http://chqaps0004.as.nemak.net/CHQ_NDS</td><td></td><td>NDS</td></tr>",
                            "<tr><td>126</td><td>NULL</td><td>MDE_BaseLink</td><td>http://chqaps0004.as.nemak.net/CHQ_MDE</td><td></td><td>MDE</td></tr>",
                            "<tr><td>127</td><td>NULL</td><td>NMI_BaseLink</td><td>http://chqaps0004.as.nemak.net/CHQ_NMI</td><td></td><td>NMI</td></tr>",
                            "<tr><td>128</td><td>NULL</td><td>OEEE_BaseLink</td><td>http://chqaps0004.as.nemak.net/CHQ_OEEE</td><td></td><td>OEEE</td></tr>",
                            "<tr><td>129</td><td>NULL</td><td>MDE_NRA_ProblemType</td><td>ProblemType1;ProblemType2;ProblemType3</td><td>NULL</td><td>MDE</td></tr>",
                            "<tr><td>130</td><td>NULL</td><td>MDE_NRA_RootCause</td><td>RootCause1;RootCause2;RootCause3</td><td>NULL</td><td>MDE</td></tr>",
                            "<tr><td>131</td><td>NULL</td><td>MDE_NRA_ImmediateAction</td><td>ImmediateAction1;ImmediateAction2;ImmediateAction3</td><td>NULL</td><td>MDE</td></tr>",
                            "<tr><td>132</td><td>NULL</td><td>MDE_NRA_PlannedAction</td><td>PlannedAction1;PlannedAction2;PlannedAction3</td><td>NULL</td><td>MDE</td></tr>",
                            "<tr><td>133</td><td>NULL</td><td>MDE_NRA_ImplementedAction</td><td>ImplementedAction1;ImplementedAction2;ImplementedAction3</td><td>NULL</td><td>MDE</td></tr>",
                            "<tr><td>134</td><td>NULL</td><td>NTS_Set_MachinesWithoutDMC</td><td>[]</td><td>Defines which machines can create Sets(Production) without DMC. Format [xxx,xxx]</td><td>NULL</td></tr>",
                            "<tr><td>135</td><td>NULL</td><td>NTS_WIP_GreenLimit</td><td>72</td><td>Sets the Limit for the green bars in\r\nthe WIP view of the NTS</td><td>NULL</td></tr>",
                            "<tr><td>136</td><td>NULL</td><td>NTS_SetIsCheckingTool</td><td>0</td><td>1 =&gt; The Set Creation is checking the NOR_Tool and the Tool_State, if the Tool_State is for production allowed.</td><td>NULL</td></tr>",
                            "<tr><td>137</td><td>NULL</td><td>NTS_Default_ShiftModel</td><td>28</td><td>NTS_Default_ShiftModel</td><td>NULL</td></tr>",
                            "<tr><td>138</td><td>NULL</td><td>NTS_WIP_YellowLimit</td><td>120</td><td>Sets the Limt for the yellow bars in\r\nthe WIP view of the NTS</td><td>NULL</td></tr>",
                            "<tr><td>139</td><td>NULL</td><td>NTS_SetTransfer_Days\r\nToLookBack</td><td>10</td><td>Days to look back for the list of the\r\nbaskets in the Set Transfer page</td><td>NULL</td></tr>",
                            "<tr><td>140</td><td>NULL</td><td>NTS_BaseLink</td><td>http://chqaps0004.as.nemak.net/CHQ_NTS</td><td>NTS base link configuration</td><td>NTS</td></tr>",
                            "<tr><td>141</td><td>NULL</td><td>NMI_SHOW_OEE</td><td>1</td><td>NULL</td><td>NULL</td></tr>",
                            "<tr><td>142</td><td>NULL</td><td>NMI_RawData_Regex</td><td>\\d+</td><td>Regex which groups the raw data</td><td>NULL</td></tr>",
                            "<tr><td>143</td><td>NULL</td><td>NPC_Config_Master_Button_BookingType</td><td>{&quot;width&quot;:&quot;100px&quot;,&quot;height&quot;:&quot;30px&quot;}</td><td>NULL</td><td>NULL</td></tr>",
                            "<tr><td>144</td><td>NULL</td><td>NPC_Config_Master_Button_ImageSide</td><td>{&quot;width&quot;:&quot;200px&quot;,&quot;height&quot;:&quot;30px&quot;}</td><td>NULL</td><td>NULL</td></tr>",
                            "<tr><td>145</td><td>NULL</td><td>NPC_Config_Master_Button_Error</td><td>{&quot;width&quot;:&quot;200px&quot;,&quot;height&quot;:&quot;30px&quot;}</td><td>NULL</td><td>NULL</td></tr>",
                            "<tr><td>146</td><td>NULL</td><td>NPC_Config_BookingManager_HiddenColumns</td><td>0</td><td>NULL</td><td>NULL</td></tr>",
                            "<tr><td>147</td><td>NULL</td><td>NPC_Config_BookingManager_HiddenFilters</td><td>0</td><td>NULL</td><td>NULL</td></tr>",
                            "<tr><td>148</td><td>NULL</td><td>NPC_BaseLink</td><td>http://chqaps0004.as.nemak.net/CHQ_NPC</td><td>NULL</td><td>NPC</td></tr>",
                            "<tr><td>149</td><td>NULL</td><td>NPC_Config_IsBookingConfirmationActive</td><td>true</td><td>NULL</td><td>NULL</td></tr>",
                            "<tr><td>150</td><td>NULL</td><td>NPC_Config_Whitelist</td><td>true</td><td>NULL</td><td>NULL</td></tr>",
                            "<tr><td>151</td><td>NULL</td><td>NPC_Config_Reset</td><td>7</td><td>NULL</td><td>NULL</td></tr>",
                            "<tr><td>152</td><td>NULL</td><td>NPC_Var_Input_Text_01</td><td>1</td><td>NULL</td><td>NPC</td></tr>",
                            "<tr><td>153</td><td>NULL</td><td>NTS_Set_CanSaveBasketsForLater</td><td>True</td><td>Allows basket creation app to save incomplete baskets in order to filled out later.</td><td>NULL</td></tr>",
                            "<tr><td>156</td><td>NULL</td><td>CLS_Validation_Strict</td><td>1</td><td>NULL</td><td>NULL</td></tr>",
                            "<tr><td>157</td><td>NULL</td><td>CLS_WIP_Enable</td><td>0</td><td>NULL</td><td>NULL</td></tr>",
                            "<tr><td>162</td><td>NULL</td><td>DASH_MachineGroup</td><td>1</td><td>NULL</td><td>NULL</td></tr>",
                            "<tr><td>163</td><td>NULL</td><td>NMI_CSM_Stock_StartMode</td><td>1</td><td>NULL</td><td>NULL</td></tr>",
                            "<tr><td>164</td><td>NULL</td><td>NMI_Filter_ProductGroup</td><td>1|3|4|5</td><td>NULL</td><td>NULL</td></tr>",
                            "<tr><td>165</td><td>NULL</td><td>NPC_Var_Selection_01</td><td>1</td><td>NULL</td><td>NULL</td></tr>",
                            "<tr><td>166</td><td>NULL</td><td>NPC_Var_Selection_02</td><td>2</td><td>NULL</td><td>NULL</td></tr>",
                            "<tr><td>167</td><td>NULL</td><td>NPC_Var_Selection_03</td><td>0</td><td>NULL</td><td>NULL</td></tr>",
                            "<tr><td>169</td><td>NULL</td><td>OEE_GanttBar_Email_Recipient</td><td>joey.duan@nemak.com;</td><td>NULL</td><td>OEEE</td></tr>",
                            "<tr><td>170</td><td>NULL</td><td>OEE_News_Enable</td><td>1</td><td>NULL</td><td>OEEE</td></tr>",
                            "<tr><td>171</td><td>NULL</td><td>NPC_Var_Selection_UserGroup_Machine</td><td>1</td><td>NULL</td><td>NULL</td></tr>",
                            "<tr><td>172</td><td>NULL</td><td>NOR_Tool_Template</td><td>{{Tool}}</td><td>NULL</td><td>NULL</td></tr>",
                            "<tr><td>173</td><td>NULL</td><td>CPC_MultiCavitiesSeperator</td><td>-&gt;</td><td>NULL</td><td>CPC</td></tr>",
                            "<tr><td>174</td><td>NULL</td><td>NOR_CavitiesEnabled</td><td>True</td><td>NULL</td><td>NULL</td></tr>",
                            "<tr><td>175</td><td>NULL</td><td>NTS_PrintLabelFormat</td><td>{id}-{yy}-{mm}-{dd}</td><td>NULL</td><td>NULL</td></tr>",
                            "<tr><td>176</td><td>NULL</td><td>NTS_SetReprintPassword</td><td>99</td><td>NULL</td><td>NULL</td></tr>",
                            "<tr><td>177</td><td>NULL</td><td>NMI_HU_SetMachines</td><td>2601</td><td>NULL</td><td>NULL</td></tr>",
                            "<tr><td>178</td><td>NULL</td><td>OEEE_CreateProductionCallBack_Enabled</td><td>1</td><td>NULL</td><td>OEEE</td></tr>",
                            "<tr><td>179</td><td>NULL</td><td>NOR_Default_ShiftModel</td><td>28</td><td>Specifies the ShiftModel associated to usergroup entries. Former NTS_Default_ShiftModel setting. Affects multiple NORIS Applications.</td><td>NOR</td></tr>",
                            "<tr><td>180</td><td>NULL</td><td>NTS_SetTransfer_IsInputOnly</td><td>0</td><td>When true, baskets can only be selected via the input field in the Set Transfer component</td><td>NTS</td></tr>",
                            "<tr><td>181</td><td>NULL</td><td>NTS_SSRS_Quarantine_Report_Link</td><td>NULL</td><td>Report link to quarantine Report</td><td>NTS</td></tr>",
                            "<tr><td>182</td><td>NULL</td><td>NSD_BaseLink</td><td>http://chqaps0004.as.nemak.net/CHQ_NSD</td><td>NULL</td><td>NSD</td></tr>",
                            "<tr><td>185</td><td>NULL</td><td>NMI2_BaseLink</td><td>http://chqaps0004.as.nemak.net/CHQ_NMI2</td><td>NULL</td><td>NMI2</td></tr>",
                            "<tr><td>187</td><td>NULL</td><td>NWEB_BaseLink</td><td>http://chqaps0004.as.nemak.net:8000</td><td>NULL</td><td>NWEB</td></tr>",
                            "<tr><td>188</td><td>NULL</td><td>NSD_Notification_RecipientList</td><td>NULL</td><td>NULL</td><td>NSD</td></tr>",
                            "<tr><td>189</td><td>NULL</td><td>NPS_BaseLink</td><td>https://chqaps0004.as.nemak.net/CHQ_NPS</td><td>NULL</td><td>NPS</td></tr>",
                            "<tr><td>190</td><td>NULL</td><td>NOR_Logical_ManufacturingPlant_Groups</td><td>[[101],[102]]</td><td>NULL</td><td>NULL</td></tr>",
                            "</table>"
                        ]
                    }
                }
            ],
            "execution_count": 1
        }
    ]
}