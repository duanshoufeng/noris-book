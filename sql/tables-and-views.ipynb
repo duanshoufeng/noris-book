{
    "metadata": {
        "kernelspec": {
            "name": "SQL",
            "display_name": "SQL",
            "language": "sql"
        },
        "language_info": {
            "name": "sql",
            "version": ""
        }
    },
    "nbformat_minor": 2,
    "nbformat": 4,
    "cells": [
        {
            "cell_type": "markdown",
            "source": [
                "# Implementing Tables & Views"
            ],
            "metadata": {
                "azdata_cell_guid": "9e4d3cf4-c148-47f2-82db-46c42828e6b1"
            }
        },
        {
            "cell_type": "markdown",
            "source": [
                "## Designing Tables\r\n",
                "\r\n",
                "### Consideration\r\n",
                "- Avoid table names and column names that contain spaces, keywords and symbols\r\n",
                "- Plan data types for each column\r\n",
                "- Plan whether to allow NULLS\r\n",
                "- Plan primary key and foreign key constriants\r\n",
                "- Plan indexes to optimize performance"
            ],
            "metadata": {
                "azdata_cell_guid": "eae35b40-304b-4380-b392-d6f9ee911d4e"
            }
        },
        {
            "cell_type": "markdown",
            "source": [
                "### DEMO"
            ],
            "metadata": {
                "azdata_cell_guid": "b55db6f1-72fe-40e3-ba5f-34348619d532"
            }
        },
        {
            "cell_type": "markdown",
            "source": [
                "Step 1: Open a new query window to create the database"
            ],
            "metadata": {
                "azdata_cell_guid": "46743e33-5180-44f6-bb48-c4f894658909"
            }
        },
        {
            "cell_type": "code",
            "source": [
                "CREATE DATABASE demodb;\r\n",
                "GO\r\n",
                "USE demodb;\r\n",
                "GO"
            ],
            "metadata": {
                "azdata_cell_guid": "47e083c0-7c33-4cc5-9cf7-d61cfd23ccbe"
            },
            "outputs": [
                {
                    "output_type": "display_data",
                    "data": {
                        "text/html": "Commands completed successfully."
                    },
                    "metadata": {}
                },
                {
                    "output_type": "display_data",
                    "data": {
                        "text/html": "Commands completed successfully."
                    },
                    "metadata": {}
                },
                {
                    "output_type": "display_data",
                    "data": {
                        "text/html": "Total execution time: 00:00:02.974"
                    },
                    "metadata": {}
                }
            ],
            "execution_count": 1
        },
        {
            "cell_type": "markdown",
            "source": [
                "Step 2: Create the Customer and CustomerOrder tables and populate them"
            ],
            "metadata": {
                "azdata_cell_guid": "2e9dc90e-b38c-4b15-90ef-fd3e72c4ca00"
            }
        },
        {
            "cell_type": "code",
            "source": [
                "CREATE TABLE dbo.Customer\r\n",
                "(\r\n",
                "    CustomerID INT IDENTITY(1, 1) PRIMARY KEY,\r\n",
                "    CustomerName NVARCHAR(50) NOT NULL\r\n",
                ");\r\n",
                "GO\r\n",
                "INSERT dbo.Customer\r\n",
                "VALUES\r\n",
                "('Marcin Jankowski'),\r\n",
                "('Darcy Jayne');\r\n",
                "GO\r\n",
                "\r\n",
                "CREATE TABLE dbo.CustomerOrder\r\n",
                "(\r\n",
                "    CustomerOrderID INT IDENTITY(1000001, 1) PRIMARY KEY,\r\n",
                "    CustomerID INT NOT NULL\r\n",
                "        FOREIGN KEY REFERENCES dbo.Customer (CustomerID),\r\n",
                "    OrderAmount DECIMAL(18, 2) NOT NULL\r\n",
                ");\r\n",
                "GO\r\n",
                ""
            ],
            "metadata": {
                "azdata_cell_guid": "250a9106-09dd-48c0-a02a-6c68c6ad16e1"
            },
            "outputs": [
                {
                    "output_type": "display_data",
                    "data": {
                        "text/html": "Commands completed successfully."
                    },
                    "metadata": {}
                },
                {
                    "output_type": "display_data",
                    "data": {
                        "text/html": "(2 rows affected)"
                    },
                    "metadata": {}
                },
                {
                    "output_type": "display_data",
                    "data": {
                        "text/html": "Commands completed successfully."
                    },
                    "metadata": {}
                },
                {
                    "output_type": "display_data",
                    "data": {
                        "text/html": "Total execution time: 00:00:00.056"
                    },
                    "metadata": {}
                }
            ],
            "execution_count": 2
        }
    ]
}