{
    "metadata": {
        "kernelspec": {
            "name": "SQL",
            "display_name": "SQL",
            "language": "sql"
        },
        "language_info": {
            "name": "sql",
            "version": ""
        }
    },
    "nbformat_minor": 2,
    "nbformat": 4,
    "cells": [
        {
            "cell_type": "markdown",
            "source": [
                "# 2021 Tasks"
            ],
            "metadata": {
                "azdata_cell_guid": "844a97d8-70e5-4c10-90db-7578e1a3b4c7"
            }
        },
        {
            "cell_type": "markdown",
            "source": [
                "## Completed"
            ],
            "metadata": {
                "azdata_cell_guid": "2f6ec398-02c7-421f-901d-ebc2b5c7b3ed"
            }
        },
        {
            "cell_type": "markdown",
            "source": [
                "### Alfa Audit Requirement - Data Privacy Note\n",
                "Add the Data Privacy Note to our NORIS Dashboards in SharePoint.\n",
                "\n",
                "\"The information contained in all of  Nemak’s systems is classified and restricted for internal use; its reproduction and dissemination to unauthorized persons is prohibited\""
            ],
            "metadata": {
                "azdata_cell_guid": "5663bca4-3b56-4fcb-958b-0db6705ab318"
            }
        },
        {
            "cell_type": "markdown",
            "source": [
                "## In Progress"
            ],
            "metadata": {
                "azdata_cell_guid": "11d8893f-6475-4c17-b40e-2ca8b689da27"
            }
        },
        {
            "cell_type": "markdown",
            "source": [
                "### Maverick Program Tracking System"
            ],
            "metadata": {
                "azdata_cell_guid": "8b490fb4-34d8-4633-b96a-120b9a4cee9f"
            }
        },
        {
            "cell_type": "markdown",
            "source": [
                "#### Process Step Configure\r\n",
                ""
            ],
            "metadata": {
                "azdata_cell_guid": "00372929-9a19-4067-baeb-dd7539e68ec5"
            }
        },
        {
            "cell_type": "markdown",
            "source": [
                "- Copy from source product"
            ],
            "metadata": {
                "azdata_cell_guid": "b5cff389-ec7f-4f87-8319-a2c51d693407"
            }
        },
        {
            "cell_type": "code",
            "source": [
                "DECLARE @source VARCHAR(50) = 'BBCQ00801A';\r\n",
                "DECLARE @target VARCHAR(50) = 'BFOQ00401C';\r\n",
                "\r\n",
                "IF NOT EXISTS\r\n",
                "(\r\n",
                "    SELECT *\r\n",
                "    FROM dbo.NOR_ProcessSteps\r\n",
                "    WHERE PartNumber = @target\r\n",
                ")\r\n",
                "BEGIN\r\n",
                "\r\n",
                "    INSERT INTO [dbo].[NOR_ProcessSteps]\r\n",
                "    (\r\n",
                "        [PartNumber],\r\n",
                "        [CastBatch],\r\n",
                "        [Step],\r\n",
                "        [System_Id],\r\n",
                "        [MfPlant],\r\n",
                "        [Usergroup],\r\n",
                "        [IsStepGeneratingMissingDMC],\r\n",
                "        [MinRepeat],\r\n",
                "        [MaxRepeat],\r\n",
                "        [SampleSize],\r\n",
                "        [MinValue],\r\n",
                "        [MaxValue],\r\n",
                "        [AllowAncestor],\r\n",
                "        [char_OK],\r\n",
                "        [char_NOK],\r\n",
                "        [IsKPI]\r\n",
                "    )\r\n",
                "    SELECT @target,\r\n",
                "           [CastBatch],\r\n",
                "           [Step],\r\n",
                "           [System_Id],\r\n",
                "           [MfPlant],\r\n",
                "           [Usergroup],\r\n",
                "           [IsStepGeneratingMissingDMC],\r\n",
                "           [MinRepeat],\r\n",
                "           [MaxRepeat],\r\n",
                "           [SampleSize],\r\n",
                "           [MinValue],\r\n",
                "           [MaxValue],\r\n",
                "           [AllowAncestor],\r\n",
                "           [char_OK],\r\n",
                "           [char_NOK],\r\n",
                "           [IsKPI]\r\n",
                "    FROM [NORIS].[dbo].[NOR_ProcessSteps]\r\n",
                "    WHERE PartNumber = @source\r\n",
                "END\r\n",
                ""
            ],
            "metadata": {
                "azdata_cell_guid": "df8a46a8-002c-4575-8bc1-717062e740b7"
            },
            "outputs": [
                {
                    "output_type": "display_data",
                    "data": {
                        "text/html": "(13 rows affected)"
                    },
                    "metadata": {}
                },
                {
                    "output_type": "display_data",
                    "data": {
                        "text/html": "Total execution time: 00:00:00.061"
                    },
                    "metadata": {}
                }
            ],
            "execution_count": 2
        },
        {
            "cell_type": "markdown",
            "source": [
                "- Change the plant number"
            ],
            "metadata": {
                "azdata_cell_guid": "3fc62848-9e3a-4f05-9eb5-eaef958d3fcf"
            }
        },
        {
            "cell_type": "code",
            "source": [
                "DECLARE @product VARCHAR(50) = 'BFOQ00401C';\r\n",
                "DECLARE @plantSource INT = 116;\r\n",
                "DECLARE @plantTarget INT = 115;\r\n",
                "\r\n",
                "IF NOT EXISTS\r\n",
                "(\r\n",
                "    SELECT *\r\n",
                "    FROM dbo.NOR_ProcessSteps\r\n",
                "    WHERE PartNumber = @product\r\n",
                "          AND MfPlant = @plantTarget\r\n",
                ")\r\n",
                "BEGIN\r\n",
                "\r\n",
                "    INSERT INTO [dbo].[NOR_ProcessSteps]\r\n",
                "    (\r\n",
                "        [PartNumber],\r\n",
                "        [CastBatch],\r\n",
                "        [Step],\r\n",
                "        [System_Id],\r\n",
                "        [MfPlant],\r\n",
                "        [Usergroup],\r\n",
                "        [IsStepGeneratingMissingDMC],\r\n",
                "        [MinRepeat],\r\n",
                "        [MaxRepeat],\r\n",
                "        [SampleSize],\r\n",
                "        [MinValue],\r\n",
                "        [MaxValue],\r\n",
                "        [AllowAncestor],\r\n",
                "        [char_OK],\r\n",
                "        [char_NOK],\r\n",
                "        [IsKPI]\r\n",
                "    )\r\n",
                "    SELECT [PartNumber],\r\n",
                "           [CastBatch],\r\n",
                "           [Step],\r\n",
                "           [System_Id],\r\n",
                "           @plantTarget,\r\n",
                "           [Usergroup],\r\n",
                "           [IsStepGeneratingMissingDMC],\r\n",
                "           [MinRepeat],\r\n",
                "           [MaxRepeat],\r\n",
                "           [SampleSize],\r\n",
                "           [MinValue],\r\n",
                "           [MaxValue],\r\n",
                "           [AllowAncestor],\r\n",
                "           [char_OK],\r\n",
                "           [char_NOK],\r\n",
                "           [IsKPI]\r\n",
                "    FROM [NORIS].[dbo].[NOR_ProcessSteps]\r\n",
                "    WHERE PartNumber = @product\r\n",
                "          AND MfPlant = @plantSource\r\n",
                "END"
            ],
            "metadata": {
                "azdata_cell_guid": "cf48fffe-9ed8-4563-aeb7-081f5737f4c8"
            },
            "outputs": [
                {
                    "output_type": "display_data",
                    "data": {
                        "text/html": "(1 row affected)"
                    },
                    "metadata": {}
                },
                {
                    "output_type": "display_data",
                    "data": {
                        "text/html": "Total execution time: 00:00:00.022"
                    },
                    "metadata": {}
                }
            ],
            "execution_count": 4
        },
        {
            "cell_type": "markdown",
            "source": [
                "#### Configure process step\r\n",
                "\r\n",
                "[http://chqaps0004.as.nemak.net/CHQ_MDE/mde/nts/workflow](http://chqaps0004.as.nemak.net/CHQ_MDE/mde/nts/workflow)\r\n",
                "\r\n",
                "![work flow](./images/workflow.png)"
            ],
            "metadata": {
                "azdata_cell_guid": "910b4ddd-e033-4009-93d2-77ba2c86e138"
            }
        },
        {
            "cell_type": "markdown",
            "source": [
                "![gif](./images/mde.gif)"
            ],
            "metadata": {
                "azdata_cell_guid": "223c55e3-51e5-4ae4-b315-33ad6ffe1ccd"
            }
        }
    ]
}