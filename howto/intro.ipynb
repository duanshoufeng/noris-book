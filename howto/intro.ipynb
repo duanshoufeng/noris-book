{
    "metadata": {
        "kernelspec": {
            "name": "SQL",
            "display_name": "SQL",
            "language": "sql"
        },
        "language_info": {
            "name": "sql",
            "version": ""
        }
    },
    "nbformat_minor": 2,
    "nbformat": 4,
    "cells": [
        {
            "cell_type": "markdown",
            "source": [
                "# How-To"
            ],
            "metadata": {
                "azdata_cell_guid": "e61b07bf-a815-4b58-b64d-143c8ab3eb1b"
            }
        },
        {
            "cell_type": "markdown",
            "source": [
                "## Change production info"
            ],
            "metadata": {
                "azdata_cell_guid": "23b575f1-5482-4520-974e-2c2ed9e3c82c"
            }
        },
        {
            "cell_type": "markdown",
            "source": [
                "- Update [dbo].[MDL_Data]\n",
                "- Update [dbo].[OEE_MDL_Data]"
            ],
            "metadata": {
                "azdata_cell_guid": "daa76fe6-36c5-4d16-9f60-add8ed3f3ead"
            }
        },
        {
            "cell_type": "code",
            "source": [
                "DECLARE @source VARCHAR(50) = 'BFOQ00601D';\r\n",
                "DECLARE @target VARCHAR(50) = 'BFOQ00601E';\r\n",
                "DECLARE @productionDate DATE = '2021-4-5';\r\n",
                "DECLARE @productionShift INT = 2;\r\n",
                "DECLARE @plant INT = 501;\r\n",
                "\r\n",
                "UPDATE dbo.MDL_Data\r\n",
                "SET PartNumber = @target\r\n",
                "WHERE ManufacturingPlant = @plant\r\n",
                "      AND ProductionDate = @productionDate\r\n",
                "      AND ProductionShift = @productionShift\r\n",
                "      AND PartNumber = @source\r\n",
                "\r\n",
                "UPDATE dbo.OEE_MDL_Data\r\n",
                "SET PartNr = @target\r\n",
                "WHERE ManfPlan = @plant\r\n",
                "      AND ProductionDate = @productionDate\r\n",
                "      AND ProductionShift = @productionShift\r\n",
                "      AND PartNr = @source"
            ],
            "metadata": {
                "azdata_cell_guid": "779afa12-f333-4325-8fa1-4fee52e2a96f"
            },
            "outputs": [
                {
                    "output_type": "display_data",
                    "data": {
                        "text/html": "(0 rows affected)"
                    },
                    "metadata": {}
                },
                {
                    "output_type": "display_data",
                    "data": {
                        "text/html": "(1 row affected)"
                    },
                    "metadata": {}
                },
                {
                    "output_type": "display_data",
                    "data": {
                        "text/html": "Total execution time: 00:00:00.114"
                    },
                    "metadata": {}
                }
            ],
            "execution_count": 2
        }
    ]
}