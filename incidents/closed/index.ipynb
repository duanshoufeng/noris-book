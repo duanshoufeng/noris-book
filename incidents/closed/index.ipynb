{
    "metadata": {
        "kernelspec": {
            "name": "SQL",
            "display_name": "SQL",
            "language": "sql"
        },
        "language_info": {
            "name": "sql",
            "version": ""
        }
    },
    "nbformat_minor": 2,
    "nbformat": 4,
    "cells": [
        {
            "cell_type": "markdown",
            "source": [
                "# Closed Incidents"
            ],
            "metadata": {
                "azdata_cell_guid": "ee67ec84-9813-445b-8c18-9b942e1276a1"
            }
        }
    ]
}