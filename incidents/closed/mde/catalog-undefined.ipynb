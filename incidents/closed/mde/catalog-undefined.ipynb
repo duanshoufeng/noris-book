{
    "metadata": {
        "kernelspec": {
            "name": "SQL",
            "display_name": "SQL",
            "language": "sql"
        },
        "language_info": {
            "name": "sql",
            "version": ""
        }
    },
    "nbformat_minor": 2,
    "nbformat": 4,
    "cells": [
        {
            "cell_type": "markdown",
            "source": [
                "# OEE"
            ],
            "metadata": {
                "azdata_cell_guid": "ee67ec84-9813-445b-8c18-9b942e1276a1"
            }
        },
        {
            "cell_type": "markdown",
            "source": [
                "## Breakdown catalog \"Cannot read property 'id' of undefined\"\r\n",
                "\r\n",
                "[Cannot read property 'id' of undefined](http://cheaps0002.as.nemak.net/CHE_MDE/mde/oee/breakdown/catalog/2)\r\n",
                "\r\n",
                "![An unknown error occured](./images/mde_breakdown_catalog_id_error.png)"
            ],
            "metadata": {
                "azdata_cell_guid": "e7fe89ca-99e6-4f10-ae5f-d6fbc296fe80"
            }
        },
        {
            "cell_type": "markdown",
            "source": [
                "- There are some breakdown ID which not exists in the dbo.OEE\\_Catalog\\_Breakdown table"
            ],
            "metadata": {
                "azdata_cell_guid": "02a5798d-d60d-4ef9-ba40-c2745b548f4c"
            }
        },
        {
            "cell_type": "code",
            "source": [
                "SELECT [ID_OEE_BreakDown]\r\n",
                "FROM [dbo].[OEE_Catalog_Breakdown_ZOT]\r\n",
                "WHERE ID_OEE_BreakDown NOT IN(SELECT ID_OEE_BreakDown FROM [dbo].[OEE_Catalog_Breakdown]);"
            ],
            "metadata": {
                "azdata_cell_guid": "d389fafc-9a80-4d43-9bac-80e7f07c413e"
            },
            "outputs": [
                {
                    "output_type": "display_data",
                    "data": {
                        "text/html": "(11 rows affected)"
                    },
                    "metadata": {}
                },
                {
                    "output_type": "display_data",
                    "data": {
                        "text/html": "Total execution time: 00:00:00.129"
                    },
                    "metadata": {}
                },
                {
                    "output_type": "execute_result",
                    "execution_count": 2,
                    "data": {
                        "application/vnd.dataresource+json": {
                            "schema": {
                                "fields": [
                                    {
                                        "name": "ID_OEE_BreakDown"
                                    }
                                ]
                            },
                            "data": [
                                {
                                    "0": "227"
                                },
                                {
                                    "0": "382"
                                },
                                {
                                    "0": "383"
                                },
                                {
                                    "0": "384"
                                },
                                {
                                    "0": "387"
                                },
                                {
                                    "0": "391"
                                },
                                {
                                    "0": "227"
                                },
                                {
                                    "0": "382"
                                },
                                {
                                    "0": "383"
                                },
                                {
                                    "0": "384"
                                },
                                {
                                    "0": "387"
                                }
                            ]
                        },
                        "text/html": "<table><tr><th>ID_OEE_BreakDown</th></tr><tr><td>227</td></tr><tr><td>382</td></tr><tr><td>383</td></tr><tr><td>384</td></tr><tr><td>387</td></tr><tr><td>391</td></tr><tr><td>227</td></tr><tr><td>382</td></tr><tr><td>383</td></tr><tr><td>384</td></tr><tr><td>387</td></tr></table>"
                    },
                    "metadata": {}
                }
            ],
            "execution_count": 2
        },
        {
            "cell_type": "markdown",
            "source": [
                "- Delete these wrong entries"
            ],
            "metadata": {
                "azdata_cell_guid": "feb65d4b-6c54-49b9-a2c9-26dc19dec3e7"
            }
        },
        {
            "cell_type": "code",
            "source": [
                "DELETE FROM [dbo].[OEE_Catalog_Breakdown_ZOT]\r\n",
                "WHERE ID_OEE_BreakDown NOT IN(SELECT ID_OEE_BreakDown FROM [dbo].[OEE_Catalog_Breakdown]);"
            ],
            "metadata": {
                "azdata_cell_guid": "29a67781-3433-47a5-9266-5d661bebf116",
                "tags": []
            },
            "outputs": [
                {
                    "output_type": "display_data",
                    "data": {
                        "text/html": "(11 rows affected)"
                    },
                    "metadata": {}
                },
                {
                    "output_type": "display_data",
                    "data": {
                        "text/html": "Total execution time: 00:00:00.130"
                    },
                    "metadata": {}
                }
            ],
            "execution_count": 3
        },
        {
            "cell_type": "markdown",
            "source": [
                "- But still get the same error, bad luck...\n",
                "- We need to also delete the breakdown which their parent is null"
            ],
            "metadata": {
                "azdata_cell_guid": "fea26f8e-0d46-49f5-827d-6f2061c309b3"
            }
        },
        {
            "cell_type": "code",
            "source": [
                "SELECT *\r\n",
                "FROM dbo.OEE_Catalog_Breakdown_ZOT z\r\n",
                "     JOIN dbo.OEE_Catalog_Breakdown b ON z.ID_OEE_BreakDown=b.ID_OEE_BreakDown\r\n",
                "WHERE B.OEE_ParentBreakDown IS NULL;"
            ],
            "metadata": {
                "azdata_cell_guid": "624e2dc5-1c8f-438a-b651-403bab6a0d10"
            },
            "outputs": [
                {
                    "output_type": "display_data",
                    "data": {
                        "text/html": "(2 rows affected)"
                    },
                    "metadata": {}
                },
                {
                    "output_type": "display_data",
                    "data": {
                        "text/html": "Total execution time: 00:00:00.647"
                    },
                    "metadata": {}
                },
                {
                    "output_type": "execute_result",
                    "execution_count": 4,
                    "data": {
                        "application/vnd.dataresource+json": {
                            "schema": {
                                "fields": [
                                    {
                                        "name": "ID_OEE_BreakDown_Group"
                                    },
                                    {
                                        "name": "ID_OEE_BreakDown"
                                    },
                                    {
                                        "name": "ID"
                                    },
                                    {
                                        "name": "ID_OEE_BreakDown"
                                    },
                                    {
                                        "name": "OEE_BreakDownKey"
                                    },
                                    {
                                        "name": "OEE_ParentBreakDown"
                                    },
                                    {
                                        "name": "SAP_EXP"
                                    },
                                    {
                                        "name": "Color"
                                    },
                                    {
                                        "name": "availability_inactive"
                                    },
                                    {
                                        "name": "performance_inactive"
                                    },
                                    {
                                        "name": "status_activ"
                                    },
                                    {
                                        "name": "target_figure_inactive"
                                    }
                                ]
                            },
                            "data": [
                                {
                                    "0": "2",
                                    "1": "142",
                                    "2": "1761",
                                    "3": "142",
                                    "4": "BKD_ALA_LF_B_Tool Shop",
                                    "5": "NULL",
                                    "6": "NULL",
                                    "7": "NULL",
                                    "8": "0",
                                    "9": "0",
                                    "10": "1",
                                    "11": "0"
                                },
                                {
                                    "0": "2",
                                    "1": "143",
                                    "2": "1762",
                                    "3": "143",
                                    "4": "BKD_ALA_LF_B_Production",
                                    "5": "NULL",
                                    "6": "NULL",
                                    "7": "NULL",
                                    "8": "0",
                                    "9": "0",
                                    "10": "1",
                                    "11": "0"
                                }
                            ]
                        },
                        "text/html": "<table><tr><th>ID_OEE_BreakDown_Group</th><th>ID_OEE_BreakDown</th><th>ID</th><th>ID_OEE_BreakDown</th><th>OEE_BreakDownKey</th><th>OEE_ParentBreakDown</th><th>SAP_EXP</th><th>Color</th><th>availability_inactive</th><th>performance_inactive</th><th>status_activ</th><th>target_figure_inactive</th></tr><tr><td>2</td><td>142</td><td>1761</td><td>142</td><td>BKD_ALA_LF_B_Tool Shop</td><td>NULL</td><td>NULL</td><td>NULL</td><td>0</td><td>0</td><td>1</td><td>0</td></tr><tr><td>2</td><td>143</td><td>1762</td><td>143</td><td>BKD_ALA_LF_B_Production</td><td>NULL</td><td>NULL</td><td>NULL</td><td>0</td><td>0</td><td>1</td><td>0</td></tr></table>"
                    },
                    "metadata": {}
                }
            ],
            "execution_count": 4
        },
        {
            "cell_type": "code",
            "source": [
                "DELETE FROM dbo.OEE_Catalog_Breakdown_ZOT\n",
                "WHERE ID_OEE_BreakDown IN (142, 143);"
            ],
            "metadata": {
                "azdata_cell_guid": "70af0b7f-bb07-44d3-98de-8c0d968df83e"
            },
            "outputs": [
                {
                    "output_type": "display_data",
                    "data": {
                        "text/html": "(2 rows affected)"
                    },
                    "metadata": {}
                },
                {
                    "output_type": "display_data",
                    "data": {
                        "text/html": "Total execution time: 00:00:00.122"
                    },
                    "metadata": {}
                }
            ],
            "execution_count": null
        }
    ]
}