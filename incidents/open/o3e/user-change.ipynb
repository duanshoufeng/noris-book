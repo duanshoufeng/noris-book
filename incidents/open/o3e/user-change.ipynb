{
    "metadata": {
        "kernelspec": {
            "name": "SQL",
            "display_name": "SQL",
            "language": "sql"
        },
        "language_info": {
            "name": "sql",
            "version": ""
        }
    },
    "nbformat_minor": 2,
    "nbformat": 4,
    "cells": [
        {
            "cell_type": "markdown",
            "source": [
                "# Bar growing with wrong username\r\n",
                "\r\n",
                "- The default username should be \"NORIS\" when a new production bar is created, but we have \"GNN032\" instead.\r\n",
                "\r\n",
                "```{image} ./images/change-user.png\r\n",
                ":alt: wrong change user info\r\n",
                ":width: 800px\r\n",
                ":align: center\r\n",
                "```\r\n",
                "\r\n",
                "\r\n",
                "- When check the history info, there is nothing, we may need to ask the global team to add this functionality\r\n",
                "\r\n",
                "\r\n",
                "```{image} ./images/history.png\r\n",
                ":alt: history info\r\n",
                ":width: 800px\r\n",
                ":align: center"
            ],
            "metadata": {
                "azdata_cell_guid": "4804b204-9164-4550-93ed-1791adb2dae9"
            }
        },
        {
            "cell_type": "markdown",
            "source": [
                "## Tables to check\r\n",
                "\r\n",
                ""
            ],
            "metadata": {
                "azdata_cell_guid": "495a6030-baa3-4685-aed7-0e05ef5e5738"
            }
        },
        {
            "cell_type": "markdown",
            "source": [
                "Look into the \\[dbo\\].\\[OEE\\_MDL\\_Data\\]"
            ],
            "metadata": {
                "azdata_cell_guid": "6d9d3e56-0d5e-4404-b3d5-f83676cd0288"
            }
        },
        {
            "cell_type": "code",
            "source": [
                "SELECT d.*\r\n",
                "FROM [dbo].[OEE_MDL_Data] d\r\n",
                "WHERE d.ManfPlan = 3214\r\n",
                "      AND d.ManfPlanDetail = 1\r\n",
                "      AND d.[End]\r\n",
                "      BETWEEN '2021-03-31 18:00:00.000' AND '2021-03-31 19:00:00.000'\r\n",
                "ORDER BY d.[End]"
            ],
            "metadata": {
                "azdata_cell_guid": "074eef7d-89d5-4cb3-88a8-f1cdc97e9e35",
                "tags": []
            },
            "outputs": [
                {
                    "output_type": "display_data",
                    "data": {
                        "text/html": "(2 rows affected)"
                    },
                    "metadata": {}
                },
                {
                    "output_type": "display_data",
                    "data": {
                        "text/html": "Total execution time: 00:00:11.161"
                    },
                    "metadata": {}
                },
                {
                    "output_type": "execute_result",
                    "metadata": {},
                    "execution_count": 7,
                    "data": {
                        "application/vnd.dataresource+json": {
                            "schema": {
                                "fields": [
                                    {
                                        "name": "ID_MDLData_OEE"
                                    },
                                    {
                                        "name": "ManfLine"
                                    },
                                    {
                                        "name": "ManfPlan"
                                    },
                                    {
                                        "name": "ManfPlanDetail"
                                    },
                                    {
                                        "name": "ToolId"
                                    },
                                    {
                                        "name": "Begin"
                                    },
                                    {
                                        "name": "End"
                                    },
                                    {
                                        "name": "PartNr"
                                    },
                                    {
                                        "name": "ProductionDate"
                                    },
                                    {
                                        "name": "CodeGroup"
                                    },
                                    {
                                        "name": "Quantity"
                                    },
                                    {
                                        "name": "ProductionShift"
                                    },
                                    {
                                        "name": "SplittingType"
                                    },
                                    {
                                        "name": "EMP"
                                    },
                                    {
                                        "name": "ChangeTime"
                                    },
                                    {
                                        "name": "Shiftgroup"
                                    }
                                ]
                            },
                            "data": [
                                {
                                    "0": "34354775",
                                    "1": "1",
                                    "2": "3214",
                                    "3": "1",
                                    "4": "208",
                                    "5": "2021-03-31 17:50:53.000",
                                    "6": "2021-03-31 18:17:13.000",
                                    "7": "CAUN00894A",
                                    "8": "2021-03-31",
                                    "9": "1",
                                    "10": "0",
                                    "11": "1",
                                    "12": "1",
                                    "13": "2032",
                                    "14": "2021-03-31 19:55:25.337",
                                    "15": "NULL"
                                },
                                {
                                    "0": "34354753",
                                    "1": "1",
                                    "2": "3214",
                                    "3": "1",
                                    "4": "213",
                                    "5": "2021-03-31 18:17:13.000",
                                    "6": "2021-03-31 18:45:02.000",
                                    "7": "CAUN00894A",
                                    "8": "2021-03-31",
                                    "9": "2",
                                    "10": "5",
                                    "11": "1",
                                    "12": "1",
                                    "13": "2032",
                                    "14": "2021-03-31 19:54:11.457",
                                    "15": "NULL"
                                }
                            ]
                        },
                        "text/html": [
                            "<table>",
                            "<tr><th>ID_MDLData_OEE</th><th>ManfLine</th><th>ManfPlan</th><th>ManfPlanDetail</th><th>ToolId</th><th>Begin</th><th>End</th><th>PartNr</th><th>ProductionDate</th><th>CodeGroup</th><th>Quantity</th><th>ProductionShift</th><th>SplittingType</th><th>EMP</th><th>ChangeTime</th><th>Shiftgroup</th></tr>",
                            "<tr><td>34354775</td><td>1</td><td>3214</td><td>1</td><td>208</td><td>2021-03-31 17:50:53.000</td><td>2021-03-31 18:17:13.000</td><td>CAUN00894A</td><td>2021-03-31</td><td>1</td><td>0</td><td>1</td><td>1</td><td>2032</td><td>2021-03-31 19:55:25.337</td><td>NULL</td></tr>",
                            "<tr><td>34354753</td><td>1</td><td>3214</td><td>1</td><td>213</td><td>2021-03-31 18:17:13.000</td><td>2021-03-31 18:45:02.000</td><td>CAUN00894A</td><td>2021-03-31</td><td>2</td><td>5</td><td>1</td><td>1</td><td>2032</td><td>2021-03-31 19:54:11.457</td><td>NULL</td></tr>",
                            "</table>"
                        ]
                    }
                }
            ],
            "execution_count": 7
        },
        {
            "cell_type": "markdown",
            "source": [
                "Get the ID number 34354753, and look into the table \\[dbo\\].\\[OEE\\_MDL\\_Data\\_Reason\\], and notice that the changecount value is 1"
            ],
            "metadata": {
                "azdata_cell_guid": "e34b218b-30db-4b27-86cd-a1acd519735b"
            }
        },
        {
            "cell_type": "code",
            "source": [
                "SELECT *\r\n",
                "FROM [dbo].[OEE_MDL_Data_Reason] r\r\n",
                "WHERE r.OEE_MDL_DataId = 34354753"
            ],
            "metadata": {
                "azdata_cell_guid": "0b757f37-bd19-43e4-92c0-0827f1ba7459"
            },
            "outputs": [
                {
                    "output_type": "display_data",
                    "data": {
                        "text/html": "(1 row affected)"
                    },
                    "metadata": {}
                },
                {
                    "output_type": "display_data",
                    "data": {
                        "text/html": "Total execution time: 00:00:00.079"
                    },
                    "metadata": {}
                },
                {
                    "output_type": "execute_result",
                    "metadata": {},
                    "execution_count": 4,
                    "data": {
                        "application/vnd.dataresource+json": {
                            "schema": {
                                "fields": [
                                    {
                                        "name": "Id"
                                    },
                                    {
                                        "name": "OEE_MDL_DataId"
                                    },
                                    {
                                        "name": "User"
                                    },
                                    {
                                        "name": "BreakDownId"
                                    },
                                    {
                                        "name": "Changetime"
                                    },
                                    {
                                        "name": "Start"
                                    },
                                    {
                                        "name": "End"
                                    },
                                    {
                                        "name": "Duration"
                                    },
                                    {
                                        "name": "Text"
                                    },
                                    {
                                        "name": "ChangeCount"
                                    }
                                ]
                            },
                            "data": [
                                {
                                    "0": "32627952",
                                    "1": "34354753",
                                    "2": "GNN032",
                                    "3": "-2",
                                    "4": "2021-03-31 19:54:11.457",
                                    "5": "2021-03-31 18:17:13.000",
                                    "6": "2021-03-31 18:45:02.000",
                                    "7": "1669",
                                    "8": "",
                                    "9": "1"
                                }
                            ]
                        },
                        "text/html": [
                            "<table>",
                            "<tr><th>Id</th><th>OEE_MDL_DataId</th><th>User</th><th>BreakDownId</th><th>Changetime</th><th>Start</th><th>End</th><th>Duration</th><th>Text</th><th>ChangeCount</th></tr>",
                            "<tr><td>32627952</td><td>34354753</td><td>GNN032</td><td>-2</td><td>2021-03-31 19:54:11.457</td><td>2021-03-31 18:17:13.000</td><td>2021-03-31 18:45:02.000</td><td>1669</td><td></td><td>1</td></tr>",
                            "</table>"
                        ]
                    }
                }
            ],
            "execution_count": 4
        },
        {
            "cell_type": "markdown",
            "source": [
                "Continue to look into table \\[dbo\\].\\[OEE\\_MDL\\_Data\\_Reason\\_History\\], and there is no result, confirms there is only one change"
            ],
            "metadata": {
                "azdata_cell_guid": "c15ca62a-a24e-4e0c-a66a-036ca07036d7"
            }
        },
        {
            "cell_type": "code",
            "source": [
                "SELECT *\r\n",
                "FROM [dbo].[OEE_MDL_Data_Reason_History] h\r\n",
                "WHERE h.OEE_MDL_DataId = 34354753"
            ],
            "metadata": {
                "azdata_cell_guid": "0f81960c-eaa6-4fcc-9af4-e828c9b69bee"
            },
            "outputs": [
                {
                    "output_type": "display_data",
                    "data": {
                        "text/html": "(0 rows affected)"
                    },
                    "metadata": {}
                },
                {
                    "output_type": "display_data",
                    "data": {
                        "text/html": "Total execution time: 00:00:00.063"
                    },
                    "metadata": {}
                },
                {
                    "output_type": "execute_result",
                    "metadata": {},
                    "execution_count": 5,
                    "data": {
                        "application/vnd.dataresource+json": {
                            "schema": {
                                "fields": [
                                    {
                                        "name": "Id"
                                    },
                                    {
                                        "name": "OEE_MDL_DataId"
                                    },
                                    {
                                        "name": "User"
                                    },
                                    {
                                        "name": "BreakDownId"
                                    },
                                    {
                                        "name": "Changetime"
                                    },
                                    {
                                        "name": "Start"
                                    },
                                    {
                                        "name": "End"
                                    },
                                    {
                                        "name": "Duration"
                                    },
                                    {
                                        "name": "Text"
                                    },
                                    {
                                        "name": "ToolId"
                                    },
                                    {
                                        "name": "EMP"
                                    },
                                    {
                                        "name": "Shiftgroup"
                                    }
                                ]
                            },
                            "data": []
                        },
                        "text/html": [
                            "<table>",
                            "<tr><th>Id</th><th>OEE_MDL_DataId</th><th>User</th><th>BreakDownId</th><th>Changetime</th><th>Start</th><th>End</th><th>Duration</th><th>Text</th><th>ToolId</th><th>EMP</th><th>Shiftgroup</th></tr>",
                            "</table>"
                        ]
                    }
                }
            ],
            "execution_count": 5
        },
        {
            "cell_type": "markdown",
            "source": [
                "If it is a breakdown bar and not a production bar, you can continue to check the table \\[dbo\\].\\[OEE\\_MDL\\_Data\\_Breakdown\\_History\\]"
            ],
            "metadata": {
                "azdata_cell_guid": "f01b84c3-8429-458e-9bd2-d0606a22ff5d"
            }
        },
        {
            "cell_type": "code",
            "source": [
                "SELECT *\r\n",
                "FROM [dbo].[OEE_MDL_Data_Breakdown_History] h\r\n",
                "WHERE h.OEE_MDL_DataId = 34354753"
            ],
            "metadata": {
                "azdata_cell_guid": "6dcf3d38-5ce5-42ed-82b6-860bde16e53b"
            },
            "outputs": [
                {
                    "output_type": "display_data",
                    "data": {
                        "text/html": "(0 rows affected)"
                    },
                    "metadata": {}
                },
                {
                    "output_type": "display_data",
                    "data": {
                        "text/html": "Total execution time: 00:00:00.075"
                    },
                    "metadata": {}
                },
                {
                    "output_type": "execute_result",
                    "metadata": {},
                    "execution_count": 6,
                    "data": {
                        "application/vnd.dataresource+json": {
                            "schema": {
                                "fields": [
                                    {
                                        "name": "Id"
                                    },
                                    {
                                        "name": "OEE_MDL_DataId"
                                    },
                                    {
                                        "name": "User"
                                    },
                                    {
                                        "name": "BreakDownId"
                                    },
                                    {
                                        "name": "Changetime"
                                    },
                                    {
                                        "name": "Start"
                                    },
                                    {
                                        "name": "End"
                                    },
                                    {
                                        "name": "Duration"
                                    },
                                    {
                                        "name": "Text"
                                    },
                                    {
                                        "name": "BreakdownText"
                                    },
                                    {
                                        "name": "Color"
                                    },
                                    {
                                        "name": "Language_Group_ID"
                                    }
                                ]
                            },
                            "data": []
                        },
                        "text/html": [
                            "<table>",
                            "<tr><th>Id</th><th>OEE_MDL_DataId</th><th>User</th><th>BreakDownId</th><th>Changetime</th><th>Start</th><th>End</th><th>Duration</th><th>Text</th><th>BreakdownText</th><th>Color</th><th>Language_Group_ID</th></tr>",
                            "</table>"
                        ]
                    }
                }
            ],
            "execution_count": 6
        }
    ]
}