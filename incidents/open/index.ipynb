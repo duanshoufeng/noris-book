{
    "metadata": {
        "kernelspec": {
            "name": "SQL",
            "display_name": "SQL",
            "language": "sql"
        },
        "language_info": {
            "name": "sql",
            "version": ""
        }
    },
    "nbformat_minor": 2,
    "nbformat": 4,
    "cells": [
        {
            "cell_type": "markdown",
            "source": [
                "# Open Incidents"
            ],
            "metadata": {
                "azdata_cell_guid": "5a2b6d3f-af8c-44f6-8d3b-4efc8c51af07"
            }
        }
    ]
}