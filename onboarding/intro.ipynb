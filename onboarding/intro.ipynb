{
    "metadata": {
        "kernelspec": {
            "name": "SQL",
            "display_name": "SQL",
            "language": "sql"
        },
        "language_info": {
            "name": "sql",
            "version": ""
        }
    },
    "nbformat_minor": 2,
    "nbformat": 4,
    "cells": [
        {
            "cell_type": "markdown",
            "source": [
                "# NORIS<sup>®</sup> ONBOARDING(入职培训)"
            ],
            "metadata": {
                "azdata_cell_guid": "35946f4f-ddfc-468e-ad25-806d8b15f366"
            }
        },
        {
            "cell_type": "markdown",
            "source": [
                "## Foreword(前言)\r\n",
                ""
            ],
            "metadata": {
                "azdata_cell_guid": "e358e995-5afd-4c5c-bd47-b95022f1d439"
            }
        },
        {
            "cell_type": "markdown",
            "source": [
                "<font size=\"4\" color=\"blue\">**N**</font>emak <font size=\"4\" color=\"blue\">**O**</font>perations <font size=\"4\" color=\"blue\">**R**</font>ealtime <font size=\"4\" color=\"blue\">**I**</font>nformation <font size=\"4\" color=\"blue\">**S**</font>ystem - is one of Nemak’s key tools used globally. It offers a wide range of advanced functionalities, that will help you to get and process important data coming directly from production floor.\r\n",
                "\r\n",
                "诺玛科运营实时信息系统 - 是诺玛科全球工厂都在使用的重要工具。它具备很多先进的功能，这些功能可以帮助我们获得和处理很多直接来自生产车间的数据。"
            ],
            "metadata": {
                "azdata_cell_guid": "78c170f4-b19e-4f15-99a7-ff1fffe7ddc8"
            }
        },
        {
            "cell_type": "markdown",
            "source": [
                "Would you like to be more familiar with the system? Or maybe you consider whether that tool would be useful in your daily work, even if your profession isn’t strictly technical? If yes – that’s great, because we have prepared a special recorded online session for you!\r\n",
                "\r\n",
                "想了解更多信息吗？或者想知道这个工具是否对你的工作有帮助，即使你的专业不是和技术紧密相关的？如果是 - 这样就太好了，因为我们专门为你准备了在线的学习课程。\r\n",
                ""
            ],
            "metadata": {
                "azdata_cell_guid": "c937b69c-3cf2-4201-acc8-82c4ac952f8e"
            }
        },
        {
            "cell_type": "markdown",
            "source": [
                "The session has been prepared by [Gernot Eberhard](mailto:Gernot.Eberhard@nemak.com) – Industry 4.0 Specialist EUR from Linz.\r\n",
                "\r\n",
                "这个课程是由[Gernot Eberhard](mailto:Gernot.Eberhard@nemak.com)完成的 - 他是诺玛科欧洲工业4.0专员，他来自奥地利林茨工厂。"
            ],
            "metadata": {
                "azdata_cell_guid": "f83b1ad6-a20b-4279-a11c-b20f8c47c0cb"
            }
        },
        {
            "cell_type": "markdown",
            "source": [
                "During the 30-minutes recorded online session you will get to know:\r\n",
                "\r\n",
                "通过30分钟的在线课程你将学习到以下内容：\r\n",
                "- General introduction of NORIS\r\n",
                "\r\n",
                "  NORIS整体介绍\r\n",
                "- It’s main functionalities – standard and mobile reports, dashboards, cubes and other applications\r\n",
                "\r\n",
                "  主要功能 - 标准报表和移动端报表，仪表盘，数据集和其他应用\r\n",
                "- What kind of data you can download from the system\r\n",
                "\r\n",
                "  从系统可以下载哪种类型的数据\r\n",
                "- And other necessary information that could be useful for everyone, who hasn’t seen the system before\r\n",
                "\r\n",
                "  以及对于没有用过这个系统的人，其它有用的信息。\r\n",
                ""
            ],
            "metadata": {
                "azdata_cell_guid": "2c3acbdf-2b30-4c55-83a2-ed5869379c13"
            }
        },
        {
            "cell_type": "markdown",
            "source": [
                "## General Introduction of NORIS（概述）\r\n",
                "   "
            ],
            "metadata": {
                "azdata_cell_guid": "edcc6223-6ab2-43fc-b22a-66a46d2d0c36"
            }
        },
        {
            "cell_type": "markdown",
            "source": [
                "```{image} ../images/logo.png\r\n",
                ":alt: NORIS\r\n",
                ":align: right\r\n",
                "```"
            ],
            "metadata": {
                "azdata_cell_guid": "e791a54d-0279-4359-a751-90de107b3df2"
            }
        },
        {
            "cell_type": "markdown",
            "source": [
                "<p align=\"center\"><font size=\"6\" color=\"grey\">NORIS<sup>®</sup></font></p>\n",
                "\n",
                "<p align=\"center\"><font size=\"5\">Nemak Operations Realtime Information System</font></p>\n",
                "<p align=\"center\"><font size=\"5\">诺玛科运营实时信息系统</font></p>\n",
                "\n",
                "<hr style=\"border:2px solid gray\"> </hr>\n",
                "\n",
                "<p align=\"center\"><font size=\"5\">Mission Statement</font></p>\n",
                "<p align=\"center\"><font size=\"5\">使命陈述</font></p>\n",
                "\n",
                "<p align=\"center\"><font size=\"4\">Enable Nemak to become a World Leader in Lightweighting Industry by providing solutions that improve visibility into operations and promote data driven decision making.</font></p>\n",
                "<p align=\"center\"><font size=\"4\">通过提供可视化解决方案，提升数据驱动应用决策，帮助诺玛科成为轻量化制造行业的世界领导者。</font></p>\n",
                "\n",
                "\n",
                "\n",
                "\n",
                "\n",
                ""
            ],
            "metadata": {
                "azdata_cell_guid": "e592278f-b629-4baa-99f3-5fbf5b840996"
            }
        },
        {
            "cell_type": "markdown",
            "source": [
                "### NORIS® Architecture (架构)"
            ],
            "metadata": {
                "azdata_cell_guid": "2717a027-dd3d-4d88-b5e0-e5fb451a0220"
            }
        },
        {
            "cell_type": "markdown",
            "source": [
                "- Take decisions on real machine data\n",
                "\n",
                "  处理实时设备数据\n",
                "  \n",
                "```{image} ../images/architecture.png\n",
                ":alt: Architecture\n",
                ":class: bg-primary mb-1\n",
                ":width: 800px\n",
                ":align: center\n",
                "```\n",
                "\n",
                "```{image} ../images/architecture-zh.png\n",
                ":alt: Architecture\n",
                ":class: bg-primary mb-1\n",
                ":width: 800px\n",
                ":align: center\n",
                "```"
            ],
            "metadata": {
                "azdata_cell_guid": "b27a6599-6843-4fe4-8346-068c3a7b8c88"
            }
        },
        {
            "cell_type": "markdown",
            "source": [
                "### NORIS Timeline(时间轴)\r\n",
                "\r\n",
                "```{image} ../images/timeline.png\r\n",
                ":alt: Architecture\r\n",
                ":class: bg-primary mb-1\r\n",
                ":width: 800px\r\n",
                ":align: center\r\n",
                "```\r\n",
                "\r\n",
                "```{image} ../images/timeline-zh.png\r\n",
                ":alt: Architecture\r\n",
                ":class: bg-primary mb-1\r\n",
                ":width: 800px\r\n",
                ":align: center\r\n",
                "```"
            ],
            "metadata": {
                "azdata_cell_guid": "174a599e-3eef-48f4-95a4-e21d149e6d66"
            }
        },
        {
            "cell_type": "markdown",
            "source": [
                "### Current state of NORIS (现状)\r\n",
                "\r\n",
                "- Global presence – 38 standardized installations worldwide\r\n",
                "\r\n",
                "    全球展示 - 世界范围内共有38个工厂完成标准化的安装部署\r\n",
                "\r\n",
                "```{image} ../images/global.png\r\n",
                ":alt: Architecture\r\n",
                ":class: bg-primary mb-1\r\n",
                ":width: 800px\r\n",
                ":align: center\r\n",
                "```"
            ],
            "metadata": {
                "azdata_cell_guid": "66a00e1b-182c-4172-8bcf-a32befda789c"
            }
        },
        {
            "cell_type": "markdown",
            "source": [
                "### NORIS Machine Connectivity Improvement （设备连接数量的持续增长）\r\n",
                "\r\n",
                "|              | Sept.2018(2018年9月) | USC(北美) | MEX(墨西哥) | SA(南美) | EUR(欧洲) | ASA(亚洲) | Sept.2019(2019年9月) | YoY(同比) |\r\n",
                "|--------------|:---------:|:----:|:------:|:----:|:----:|:----:|:---------:|:----:|\r\n",
                "| Casting(压铸)         |   100.0%  | 100% |  100%  | 100% |  99% | 100% |   99.8%   |  0%  |\r\n",
                "| Core Shop(制芯)         |   97.1%   | 100% |  100%  | 100% | 100% |  97% |   99.8%   |  3%  |\r\n",
                "| Machining(机加)         |   64.3%   |  51% |   71%  | 100% |  99% |      |   80.5%   |  25% |\r\n",
                "| Other(其它)         |   79.5%   |  69% |   96%  | 100% |  93% |      |   87.9%   |  11% |\r\n",
                "| Total Connected(设备联网数量) |    2100   |  336 |   698  |  169 | 1086 |  78  |    2367   |  267 |\r\n",
                "| Total Available(设备数量)     |    2606   |  485 |   783  |  169 | 1121 |  79  |    2637   |  31  |\r\n",
                "| Total(总计)         |    81%    |  69% |   89%  | 100% |  97% |  99  |    90%    |  11% |"
            ],
            "metadata": {
                "azdata_cell_guid": "b030e6f9-4d20-40e6-a226-d5756b27fd14"
            }
        },
        {
            "cell_type": "markdown",
            "source": [
                "## Global start page (全球主页面)\r\n",
                "\r\n",
                "### How to find the data? 如果找到数据？  \r\n",
                "\r\n",
                "Navigate to the NORIS Global start page via 通过以下方式导航到NORIS全球主页面\r\n",
                "- Nemak SharePoint->My Work->General->NORIS Portal\r\n",
                "\r\n",
                "```{image} ../images/portal.png\r\n",
                ":alt: Architecture\r\n",
                ":class: bg-primary mb-1\r\n",
                ":width: 800px\r\n",
                ":align: center\r\n",
                "```\r\n",
                "\r\n",
                "- Or use the following link - [noris.nemak.net](http://noris.nemak.net)\r\n",
                "\r\n",
                "  或者通过这个网址进入 - [noris.nemak.net](http://noris.nemak.net)\r\n",
                "\r\n",
                "```{image} ../images/link.png\r\n",
                ":alt: Architecture\r\n",
                ":class: bg-primary mb-1\r\n",
                ":width: 800px\r\n",
                ":align: center\r\n",
                "```\r\n",
                "- With clicking on a plant in the left panel or directly at the red dot on the landscape, we can navigate to the plant specific start page.\r\n",
                "\r\n",
                "  通过点击左侧面板上的工厂名或者直接选择地图上的红色圆点，就可以进入对应工厂的起始页面。\r\n",
                "\r\n",
                "```{image} ../images/startpage.png\r\n",
                ":alt: Architecture\r\n",
                ":class: bg-primary mb-1\r\n",
                ":width: 800px\r\n",
                ":align: center\r\n",
                "```\r\n",
                "\r\n",
                "\r\n",
                "\r\n",
                "\r\n",
                "\r\n",
                ""
            ],
            "metadata": {
                "azdata_cell_guid": "c562deb0-ee22-4080-aaa7-920156400cfa"
            }
        },
        {
            "cell_type": "markdown",
            "source": [
                "## Request for Access (申请权限)\r\n",
                "\r\n",
                "* Select FRK for BU-wide access to NORIS 选择FRK申请BU等级的NORIS访问权限\r\n",
                "  * Gets approved by Mr. Uwe Herrmann 需要由Mr.Uwe Herrmann批准\r\n",
                "* Select Plant xyz for specific access 选择工厂XYZ申请对应工厂的权限\r\n",
                "  * Gets approved by plant manager 需要由工厂经理批准\r\n",
                "\r\n",
                "* Plant employees have per default access to plant data 员工默认具备访问自己工厂数据的权限\r\n",
                "\r\n",
                "\r\n",
                "\r\n",
                "\r\n",
                "\r\n",
                "```{image} ../images/access.png\r\n",
                ":alt: Access\r\n",
                ":class: bg-primary mb-1\r\n",
                ":width: 800px\r\n",
                ":align: center\r\n",
                "```\r\n",
                "\r\n",
                ""
            ],
            "metadata": {
                "azdata_cell_guid": "3fceb488-480e-4394-a644-0e3fafbd1d05"
            }
        },
        {
            "cell_type": "markdown",
            "source": [
                "## Plant start page 工厂主页面\r\n",
                "\r\n",
                "* Exists of 3 main sections 包括3个主要部分\r\n",
                "  * Dashboard (Top Section) 仪表盘（页面顶部）\r\n",
                "  * Standard Reports (Bottom Left) 标准化报表（页面底部左侧）\r\n",
                "  * Applications (Bottom Right) 应用程序（页面底部右侧）\r\n",
                "\r\n",
                "\r\n",
                "```{image} ../images/plantstartpage.png\r\n",
                ":alt: Access\r\n",
                ":class: bg-primary mb-1\r\n",
                ":width: 800px\r\n",
                ":align: center\r\n",
                "```\r\n",
                "\r\n",
                "\r\n",
                ""
            ],
            "metadata": {
                "azdata_cell_guid": "62d7a396-7c8a-4c58-b031-9da41035d534"
            }
        },
        {
            "cell_type": "markdown",
            "source": [
                "### Dashboard 仪表盘\n",
                "\n",
                "* Top Section shows a Dashboard with information about 页面上部的仪表盘显示的信息包括\n",
                "    * Production, Targets, Scrap, Rework 产量，目标，废品数\n",
                "    * For Today, Yesterday, actual Week, actual Month, YTD 今天，昨天，本周，本月，本年\n",
                "    * Detailed description about the Dashboard can be found with clicking “?” 详细的说明可以通过点击“？”按钮获取\n",
                "\n",
                "```{image} ../images/dashboard.png\n",
                ":alt: Access\n",
                ":class: bg-primary mb-1\n",
                ":width: 800px\n",
                ":align: center\n",
                "```\n",
                " \n",
                "\n",
                "\n",
                ""
            ],
            "metadata": {
                "azdata_cell_guid": "84466f22-b913-423a-b0f0-9c9e499f9b92"
            }
        },
        {
            "cell_type": "markdown",
            "source": [
                "### Standard Reports 标准化报表\r\n",
                "\r\n",
                "```{image} ../images/standardreports.png\r\n",
                ":alt: Access\r\n",
                ":class: bg-primary mb-1\r\n",
                ":width: 800px\r\n",
                ":align: center\r\n",
                "```\r\n",
                "\r\n",
                "* The next section contains the Standard Reports each plant needs to use 第二部分包括每个工厂需要用到的标准化报表\r\n",
                "    * A good starting point for browsing is the „Daily report“ or also called „Casting“-report 打开“Daily report\" 或者也叫做\"Casting Report\"作为开始是不错的选择\r\n",
                "    * It provides information about production, targets, availability, performance for each machine and shift 它包括的信息有每台设备每个班次的生产数，目标，开动率，效率等\r\n",
                "    * With clicking the production bar, we can drill down to the production report, which provides detail information for this machine 通过点击生产柱状图，可以向下钻取到生产报表，那里可以看到这台设备更详细的信息\r\n",
                "    * With clicking again at the bars we can drill down to cycle times report for this specific hour 通过再次点击柱状图，可以向下钻取到每个小时的节拍报告。\r\n",
                "\r\n",
                "```{image} ../images/dailyreport.png\r\n",
                ":alt: Access\r\n",
                ":class: bg-primary mb-1\r\n",
                ":width: 800px\r\n",
                ":align: center\r\n",
                "```   \r\n",
                "\r\n",
                "* The quality reports display for each material group the scrap rates over the last month 质量报表展示每个产品族上月的报废率\r\n",
                "    * With clicking a bar, we can navigate to detail information about a specific month 通过点击柱状图，可以进入所选择月份的详细信息\r\n",
                "    * With again clicking the bar we can drill down to a specific week 再次点击柱状图，可以向下钻取选择周数的详细信息。\r\n",
                "\r\n",
                "```{image} ../images/qualityreports.png\r\n",
                ":alt: Access\r\n",
                ":class: bg-primary mb-1\r\n",
                ":width: 800px\r\n",
                ":align: center\r\n",
                "```   \r\n",
                "\r\n",
                "\r\n",
                "\r\n",
                "\r\n",
                "\r\n",
                "\r\n",
                ""
            ],
            "metadata": {
                "azdata_cell_guid": "161b850e-4f06-40e7-90e9-c3448ea79cd7"
            }
        },
        {
            "cell_type": "markdown",
            "source": [
                "### Applications 应用\r\n",
                "\r\n",
                "```{image} ../images/applications.png\r\n",
                ":alt: Access\r\n",
                ":class: bg-primary mb-1\r\n",
                ":width: 800px\r\n",
                ":align: center\r\n",
                "```  \r\n",
                "\r\n",
                "* Over Equipment Efficiency 设备总体效率\r\n",
                "    * The OEE Application is used to display the production and breakdowns of a machine OEE应用程序用于展示设备的生产和停机信息\r\n",
                "    * Users with enough permission can also declare undefined breakdowns to specific ones 有足够权限的用户还可以编辑停机原因\r\n",
                "\r\n",
                "```{image} ../images/oee.png\r\n",
                ":alt: Access\r\n",
                ":class: bg-primary mb-1\r\n",
                ":width: 800px\r\n",
                ":align: center\r\n",
                "```  \r\n",
                "\r\n",
                "\r\n",
                "* The cubes are used to answer flexible and dynamically questions about 数据集用于灵活的，动态的解决以下问题\r\n",
                "    * production 生产\r\n",
                "    * scrap 报废\r\n",
                "    * availability 开动率\r\n",
                "\r\n",
                "* In the preconfigured excel files are already diagramms and most filter setup 在事先配置好的excel文件中，已经可以展示图表和大部分的切片器\r\n",
                "* They can be used as a starting point for own excel analysis 可以把它作为模板开始做一些自己的excel分析\r\n",
                "\r\n",
                "```{image} ../images/cube.png\r\n",
                ":alt: Access\r\n",
                ":class: bg-primary mb-1\r\n",
                ":width: 800px\r\n",
                ":align: center\r\n",
                "```  \r\n",
                "\r\n",
                "#### Additionally to Cubes we are starting with Tableau 除了数据集我们已经开始应用Tableau\r\n",
                "\r\n",
                "```{image} ../images/tableau.png\r\n",
                ":alt: Access\r\n",
                ":class: bg-primary mb-1\r\n",
                ":width: 800px\r\n",
                ":align: center\r\n",
                "```  \r\n",
                "\r\n",
                "\r\n",
                "\r\n",
                ""
            ],
            "metadata": {
                "azdata_cell_guid": "438c978d-884d-4027-9d5e-2e60796d2e26"
            }
        },
        {
            "cell_type": "markdown",
            "source": [
                "### Applications NMI 人机界面\n",
                "\n",
                "* The NMI application is mostly used by operators next to the machine 人机界面应用是设备本身以外操作者使用最多的\n",
                "* It provides information about the status and performance of the machines 用于提供设备的状态和效率信息\n",
                "* It is also the entry point for Lean applications like Standardized Work and Total Productive Maintenance 同时也是精益生产工具的入口，如标准化作业和全员生产维护\n",
                "\n",
                "```{image} ../images/nmi.png\n",
                ":alt: Access\n",
                ":class: bg-primary mb-1\n",
                ":width: 800px\n",
                ":align: center\n",
                "```  \n",
                "\n",
                "\n",
                ""
            ],
            "metadata": {
                "azdata_cell_guid": "8287f575-5339-48f2-906e-9ea79e398435"
            }
        },
        {
            "cell_type": "markdown",
            "source": [
                "### Applications SIS 车间信息系统\r\n",
                "\r\n",
                "* The shopfloor information system (SIS) is mostly used on big screen in production area. 车间信息系统用于在生产区域通过大屏幕展示\r\n",
                "* It display the life status of the machines. Very popular in maintenance teams. 用于展示设备的状态。对于维修团队非常有用。\r\n",
                "\r\n",
                "\r\n",
                "```{image} ../images/sis.png\r\n",
                ":alt: Access\r\n",
                ":class: bg-primary mb-1\r\n",
                ":width: 800px\r\n",
                ":align: center\r\n",
                "```  \r\n",
                "\r\n",
                "\r\n",
                ""
            ],
            "metadata": {
                "azdata_cell_guid": "75510218-edd7-42bc-b345-c343f57bd236"
            }
        },
        {
            "cell_type": "markdown",
            "source": [
                "## Mobile Reports 移动端报表\r\n",
                "\r\n",
                "* Accessible via [Link](http://eumulsql0002.eu.nemak.net/reports/browse/)\r\n",
                "\r\n",
                "  通过此[连接](http://eumulsql0002.eu.nemak.net/reports/browse/)\r\n",
                "\r\n",
                "* Via Smart Phone (if already installed) \r\n",
                "\r\n",
                "  通过智能手机访问 （如果手机已经安装此应用）\r\n",
                "\r\n",
                "\r\n",
                "```{image} ../images/mobilereports.png\r\n",
                ":alt: Access\r\n",
                ":class: bg-primary mb-1\r\n",
                ":width: 800px\r\n",
                ":align: center\r\n",
                "```  \r\n",
                "\r\n",
                "\r\n",
                ""
            ],
            "metadata": {
                "azdata_cell_guid": "8e15d9f3-f837-4835-99ad-ccebcf11a64b"
            }
        },
        {
            "cell_type": "markdown",
            "source": [
                "## Local Contact 本地联系方式\r\n",
                "\r\n",
                "| Location(地点） | NORIS Lead(NORIS专员） | Cherwell-Mail(事件提交) |\r\n",
                "|-----------------|------------------------|---------------|\r\n",
                "| CHQ(重庆）      | [Joey Duan](mailto:joey.duan@nemak.com)             | [CHQ.NORISSupport@nemak.com](mailto:CHQ.NORISSupport@nemak.com)           |\r\n",
                "| NAN(南京）      | [Jason Ji](mailto:Jason.Ji@nemak.com)               | [NAN.NORISSupport@nemak.com](mailto:NAN.NORISSupport@nemak.com)           |\r\n",
                "| CHE(印度）      | [Rajkumar](mailto:CHE.PCL@nemak.com)              | [CHE.NORISSupport@nemak.com](mailto:CHE.NORISSupport@nemak.com)           |"
            ],
            "metadata": {
                "azdata_cell_guid": "348a63ab-0344-4069-8062-5985c5efe5ad"
            }
        },
        {
            "cell_type": "markdown",
            "source": [
                "## NORIS Level 1+2 Trainings available in TMS catalog 在线培训\r\n",
                "\r\n",
                "```{image} ../images/trainings.png\r\n",
                ":alt: Access\r\n",
                ":class: bg-primary mb-1\r\n",
                ":width: 800px\r\n",
                ":align: center\r\n",
                "```  \r\n",
                "---\r\n",
                "\r\n",
                "\r\n",
                "```{image} ../images/nemak.png\r\n",
                ":alt: Access\r\n",
                ":class: bg-primary mb-1\r\n",
                ":width: 800px\r\n",
                ":align: center\r\n",
                "```  \r\n",
                "\r\n",
                ""
            ],
            "metadata": {
                "azdata_cell_guid": "8d8a3cd8-34f4-475c-afed-3fb80fa47cf6"
            }
        }
    ]
}